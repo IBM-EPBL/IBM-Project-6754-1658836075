{
  "cells": [
    {
      "cell_type": "markdown",
      "id": "3f890716",
      "metadata": {
        "id": "3f890716"
      },
      "source": [
        "# Assignment - 4"
      ]
    },
    {
      "cell_type": "markdown",
      "id": "97159f8c",
      "metadata": {
        "id": "97159f8c"
      },
      "source": [
        "### Customer Segmentation Analysis\n",
        "\n",
        "### Problem Statement\n",
        "### You own the mall and want to understand the customers who can quickly converge [Target Customers] so that the insight can be given to the marketing team and plan the strategy accordingly"
      ]
    },
    {
      "cell_type": "markdown",
      "id": "9fcab3e2",
      "metadata": {
        "id": "9fcab3e2"
      },
      "source": [
        "### Dataset Downloaded:"
      ]
    },
    {
      "cell_type": "markdown",
      "id": "01f547e5",
      "metadata": {
        "id": "01f547e5"
      },
      "source": [
        "### Load the dataset into the tool."
      ]
    },
    {
      "cell_type": "code",
      "execution_count": 83,
      "id": "e32dd6b3",
      "metadata": {
        "id": "e32dd6b3"
      },
      "outputs": [],
      "source": [
        "import pandas as pd\n",
        "import matplotlib.pyplot as plt\n",
        "import seaborn as sns\n",
        "import numpy as np"
      ]
    },
    {
      "cell_type": "code",
      "execution_count": 3,
      "id": "6cebd7a4",
      "metadata": {
        "colab": {
          "base_uri": "https://localhost:8080/",
          "height": 206
        },
        "id": "6cebd7a4",
        "outputId": "dc2186c5-2b6b-44b1-fe9b-4dcdbe1dc8e5"
      },
      "outputs": [
        {
          "output_type": "execute_result",
          "data": {
            "text/plain": [
              "   CustomerID  Gender  Age  Annual Income (k$)  Spending Score (1-100)\n",
              "0           1    Male   19                  15                      39\n",
              "1           2    Male   21                  15                      81\n",
              "2           3  Female   20                  16                       6\n",
              "3           4  Female   23                  16                      77\n",
              "4           5  Female   31                  17                      40"
            ],
            "text/html": [
              "\n",
              "  <div id=\"df-95b03a33-d784-4924-ba29-af26933d5a8a\">\n",
              "    <div class=\"colab-df-container\">\n",
              "      <div>\n",
              "<style scoped>\n",
              "    .dataframe tbody tr th:only-of-type {\n",
              "        vertical-align: middle;\n",
              "    }\n",
              "\n",
              "    .dataframe tbody tr th {\n",
              "        vertical-align: top;\n",
              "    }\n",
              "\n",
              "    .dataframe thead th {\n",
              "        text-align: right;\n",
              "    }\n",
              "</style>\n",
              "<table border=\"1\" class=\"dataframe\">\n",
              "  <thead>\n",
              "    <tr style=\"text-align: right;\">\n",
              "      <th></th>\n",
              "      <th>CustomerID</th>\n",
              "      <th>Gender</th>\n",
              "      <th>Age</th>\n",
              "      <th>Annual Income (k$)</th>\n",
              "      <th>Spending Score (1-100)</th>\n",
              "    </tr>\n",
              "  </thead>\n",
              "  <tbody>\n",
              "    <tr>\n",
              "      <th>0</th>\n",
              "      <td>1</td>\n",
              "      <td>Male</td>\n",
              "      <td>19</td>\n",
              "      <td>15</td>\n",
              "      <td>39</td>\n",
              "    </tr>\n",
              "    <tr>\n",
              "      <th>1</th>\n",
              "      <td>2</td>\n",
              "      <td>Male</td>\n",
              "      <td>21</td>\n",
              "      <td>15</td>\n",
              "      <td>81</td>\n",
              "    </tr>\n",
              "    <tr>\n",
              "      <th>2</th>\n",
              "      <td>3</td>\n",
              "      <td>Female</td>\n",
              "      <td>20</td>\n",
              "      <td>16</td>\n",
              "      <td>6</td>\n",
              "    </tr>\n",
              "    <tr>\n",
              "      <th>3</th>\n",
              "      <td>4</td>\n",
              "      <td>Female</td>\n",
              "      <td>23</td>\n",
              "      <td>16</td>\n",
              "      <td>77</td>\n",
              "    </tr>\n",
              "    <tr>\n",
              "      <th>4</th>\n",
              "      <td>5</td>\n",
              "      <td>Female</td>\n",
              "      <td>31</td>\n",
              "      <td>17</td>\n",
              "      <td>40</td>\n",
              "    </tr>\n",
              "  </tbody>\n",
              "</table>\n",
              "</div>\n",
              "      <button class=\"colab-df-convert\" onclick=\"convertToInteractive('df-95b03a33-d784-4924-ba29-af26933d5a8a')\"\n",
              "              title=\"Convert this dataframe to an interactive table.\"\n",
              "              style=\"display:none;\">\n",
              "        \n",
              "  <svg xmlns=\"http://www.w3.org/2000/svg\" height=\"24px\"viewBox=\"0 0 24 24\"\n",
              "       width=\"24px\">\n",
              "    <path d=\"M0 0h24v24H0V0z\" fill=\"none\"/>\n",
              "    <path d=\"M18.56 5.44l.94 2.06.94-2.06 2.06-.94-2.06-.94-.94-2.06-.94 2.06-2.06.94zm-11 1L8.5 8.5l.94-2.06 2.06-.94-2.06-.94L8.5 2.5l-.94 2.06-2.06.94zm10 10l.94 2.06.94-2.06 2.06-.94-2.06-.94-.94-2.06-.94 2.06-2.06.94z\"/><path d=\"M17.41 7.96l-1.37-1.37c-.4-.4-.92-.59-1.43-.59-.52 0-1.04.2-1.43.59L10.3 9.45l-7.72 7.72c-.78.78-.78 2.05 0 2.83L4 21.41c.39.39.9.59 1.41.59.51 0 1.02-.2 1.41-.59l7.78-7.78 2.81-2.81c.8-.78.8-2.07 0-2.86zM5.41 20L4 18.59l7.72-7.72 1.47 1.35L5.41 20z\"/>\n",
              "  </svg>\n",
              "      </button>\n",
              "      \n",
              "  <style>\n",
              "    .colab-df-container {\n",
              "      display:flex;\n",
              "      flex-wrap:wrap;\n",
              "      gap: 12px;\n",
              "    }\n",
              "\n",
              "    .colab-df-convert {\n",
              "      background-color: #E8F0FE;\n",
              "      border: none;\n",
              "      border-radius: 50%;\n",
              "      cursor: pointer;\n",
              "      display: none;\n",
              "      fill: #1967D2;\n",
              "      height: 32px;\n",
              "      padding: 0 0 0 0;\n",
              "      width: 32px;\n",
              "    }\n",
              "\n",
              "    .colab-df-convert:hover {\n",
              "      background-color: #E2EBFA;\n",
              "      box-shadow: 0px 1px 2px rgba(60, 64, 67, 0.3), 0px 1px 3px 1px rgba(60, 64, 67, 0.15);\n",
              "      fill: #174EA6;\n",
              "    }\n",
              "\n",
              "    [theme=dark] .colab-df-convert {\n",
              "      background-color: #3B4455;\n",
              "      fill: #D2E3FC;\n",
              "    }\n",
              "\n",
              "    [theme=dark] .colab-df-convert:hover {\n",
              "      background-color: #434B5C;\n",
              "      box-shadow: 0px 1px 3px 1px rgba(0, 0, 0, 0.15);\n",
              "      filter: drop-shadow(0px 1px 2px rgba(0, 0, 0, 0.3));\n",
              "      fill: #FFFFFF;\n",
              "    }\n",
              "  </style>\n",
              "\n",
              "      <script>\n",
              "        const buttonEl =\n",
              "          document.querySelector('#df-95b03a33-d784-4924-ba29-af26933d5a8a button.colab-df-convert');\n",
              "        buttonEl.style.display =\n",
              "          google.colab.kernel.accessAllowed ? 'block' : 'none';\n",
              "\n",
              "        async function convertToInteractive(key) {\n",
              "          const element = document.querySelector('#df-95b03a33-d784-4924-ba29-af26933d5a8a');\n",
              "          const dataTable =\n",
              "            await google.colab.kernel.invokeFunction('convertToInteractive',\n",
              "                                                     [key], {});\n",
              "          if (!dataTable) return;\n",
              "\n",
              "          const docLinkHtml = 'Like what you see? Visit the ' +\n",
              "            '<a target=\"_blank\" href=https://colab.research.google.com/notebooks/data_table.ipynb>data table notebook</a>'\n",
              "            + ' to learn more about interactive tables.';\n",
              "          element.innerHTML = '';\n",
              "          dataTable['output_type'] = 'display_data';\n",
              "          await google.colab.output.renderOutput(dataTable, element);\n",
              "          const docLink = document.createElement('div');\n",
              "          docLink.innerHTML = docLinkHtml;\n",
              "          element.appendChild(docLink);\n",
              "        }\n",
              "      </script>\n",
              "    </div>\n",
              "  </div>\n",
              "  "
            ]
          },
          "metadata": {},
          "execution_count": 3
        }
      ],
      "source": [
        "df = pd.read_csv(\"/Mall_Customers.csv\")\n",
        "df.head()"
      ]
    },
    {
      "cell_type": "markdown",
      "id": "3c3cd0da",
      "metadata": {
        "id": "3c3cd0da"
      },
      "source": [
        "### Perform Below Visualizations."
      ]
    },
    {
      "cell_type": "markdown",
      "id": "b54682ea",
      "metadata": {
        "id": "b54682ea"
      },
      "source": [
        "#### i) Univariate Analysis"
      ]
    },
    {
      "cell_type": "markdown",
      "id": "c9c20a62",
      "metadata": {
        "id": "c9c20a62"
      },
      "source": [
        "##### Histogram"
      ]
    },
    {
      "cell_type": "code",
      "execution_count": 4,
      "id": "0786b8be",
      "metadata": {
        "colab": {
          "base_uri": "https://localhost:8080/",
          "height": 296
        },
        "id": "0786b8be",
        "outputId": "0cba8d4b-d3cb-437b-88c4-9a6b2f27671e"
      },
      "outputs": [
        {
          "output_type": "execute_result",
          "data": {
            "text/plain": [
              "<matplotlib.axes._subplots.AxesSubplot at 0x7fb2d799e450>"
            ]
          },
          "metadata": {},
          "execution_count": 4
        },
        {
          "output_type": "display_data",
          "data": {
            "text/plain": [
              "<Figure size 432x288 with 1 Axes>"
            ],
            "image/png": "[encoded data removed]"
          },
          "metadata": {
            "needs_background": "light"
          }
        }
      ],
      "source": [
        "sns.histplot(df[\"Age\"], color='blue')"
      ]
    },
    {
      "cell_type": "markdown",
      "id": "ca597ab4",
      "metadata": {
        "id": "ca597ab4"
      },
      "source": [
        "##### Countplot"
      ]
    },
    {
      "cell_type": "code",
      "execution_count": 5,
      "id": "a62d6378",
      "metadata": {
        "colab": {
          "base_uri": "https://localhost:8080/",
          "height": 296
        },
        "id": "a62d6378",
        "outputId": "e53ab118-4a7d-47bb-e207-8595ccb8e4c5"
      },
      "outputs": [
        {
          "output_type": "execute_result",
          "data": {
            "text/plain": [
              "<matplotlib.axes._subplots.AxesSubplot at 0x7fb2d78b2310>"
            ]
          },
          "metadata": {},
          "execution_count": 5
        },
        {
          "output_type": "display_data",
          "data": {
            "text/plain": [
              "<Figure size 432x288 with 1 Axes>"
            ],
            "image/png": "[encoded data removed]"
          },
          "metadata": {
            "needs_background": "light"
          }
        }
      ],
      "source": [
        "sns.countplot(x=df['Gender']) "
      ]
    },
    {
      "cell_type": "markdown",
      "id": "6cdef567",
      "metadata": {
        "id": "6cdef567"
      },
      "source": [
        "##### Box Plot"
      ]
    },
    {
      "cell_type": "code",
      "execution_count": 6,
      "id": "a5772272",
      "metadata": {
        "colab": {
          "base_uri": "https://localhost:8080/",
          "height": 296
        },
        "id": "a5772272",
        "outputId": "975dceff-0d84-4a02-e40d-91335264f276"
      },
      "outputs": [
        {
          "output_type": "execute_result",
          "data": {
            "text/plain": [
              "<matplotlib.axes._subplots.AxesSubplot at 0x7fb2d743d7d0>"
            ]
          },
          "metadata": {},
          "execution_count": 6
        },
        {
          "output_type": "display_data",
          "data": {
            "text/plain": [
              "<Figure size 432x288 with 1 Axes>"
            ],
            "image/png": "[encoded data removed]"
          },
          "metadata": {
            "needs_background": "light"
          }
        }
      ],
      "source": [
        "sns.boxplot(x=df[\"Annual Income (k$)\"]) "
      ]
    },
    {
      "cell_type": "markdown",
      "id": "39bdd672",
      "metadata": {
        "id": "39bdd672"
      },
      "source": [
        "#### ii)Bi - Variate Analysis"
      ]
    },
    {
      "cell_type": "markdown",
      "id": "8e85842a",
      "metadata": {
        "id": "8e85842a"
      },
      "source": [
        "##### LinearPlot"
      ]
    },
    {
      "cell_type": "code",
      "execution_count": 7,
      "id": "449d1aa2",
      "metadata": {
        "colab": {
          "base_uri": "https://localhost:8080/",
          "height": 351
        },
        "id": "449d1aa2",
        "outputId": "c2ac2ac9-cee5-4bd3-9429-d3f338d3ef47"
      },
      "outputs": [
        {
          "output_type": "stream",
          "name": "stderr",
          "text": [
            "/usr/local/lib/python3.7/dist-packages/seaborn/_decorators.py:43: FutureWarning: Pass the following variables as keyword args: x, y. From version 0.12, the only valid positional argument will be `data`, and passing other arguments without an explicit keyword will result in an error or misinterpretation.\n",
            "  FutureWarning\n"
          ]
        },
        {
          "output_type": "execute_result",
          "data": {
            "text/plain": [
              "<matplotlib.axes._subplots.AxesSubplot at 0x7fb2d73db750>"
            ]
          },
          "metadata": {},
          "execution_count": 7
        },
        {
          "output_type": "display_data",
          "data": {
            "text/plain": [
              "<Figure size 432x288 with 1 Axes>"
            ],
            "image/png": "[encoded data removed]"
          },
          "metadata": {
            "needs_background": "light"
          }
        }
      ],
      "source": [
        "sns.lineplot(df[\"Age\"],df[\"Gender\"])"
      ]
    },
    {
      "cell_type": "markdown",
      "id": "063ec289",
      "metadata": {
        "id": "063ec289"
      },
      "source": [
        "##### Scatter Plot"
      ]
    },
    {
      "cell_type": "code",
      "execution_count": 8,
      "id": "def4d022",
      "metadata": {
        "colab": {
          "base_uri": "https://localhost:8080/",
          "height": 296
        },
        "id": "def4d022",
        "outputId": "f286ed78-4520-49c6-8c5d-53c23363aff1"
      },
      "outputs": [
        {
          "output_type": "execute_result",
          "data": {
            "text/plain": [
              "<matplotlib.axes._subplots.AxesSubplot at 0x7fb2d72eca50>"
            ]
          },
          "metadata": {},
          "execution_count": 8
        },
        {
          "output_type": "display_data",
          "data": {
            "text/plain": [
              "<Figure size 432x288 with 1 Axes>"
            ],
            "image/png": "[encoded data removed]"
          },
          "metadata": {
            "needs_background": "light"
          }
        }
      ],
      "source": [
        "sns.scatterplot(x=df['Age'],y=df['Spending Score (1-100)'])"
      ]
    },
    {
      "cell_type": "markdown",
      "id": "d56d9dc1",
      "metadata": {
        "id": "d56d9dc1"
      },
      "source": [
        "##### Pointplot"
      ]
    },
    {
      "cell_type": "code",
      "execution_count": 9,
      "id": "607a99b6",
      "metadata": {
        "colab": {
          "base_uri": "https://localhost:8080/",
          "height": 296
        },
        "id": "607a99b6",
        "outputId": "21150cc8-00d8-4e9f-e216-e1ccf6ab8474"
      },
      "outputs": [
        {
          "output_type": "execute_result",
          "data": {
            "text/plain": [
              "<matplotlib.axes._subplots.AxesSubplot at 0x7fb2d729c250>"
            ]
          },
          "metadata": {},
          "execution_count": 9
        },
        {
          "output_type": "display_data",
          "data": {
            "text/plain": [
              "<Figure size 432x288 with 1 Axes>"
            ],
            "image/png": "[encoded data removed]"
          },
          "metadata": {
            "needs_background": "light"
          }
        }
      ],
      "source": [
        "sns.pointplot(x='Age',y='Annual Income (k$)',data=df)"
      ]
    },
    {
      "cell_type": "markdown",
      "id": "5c77d00a",
      "metadata": {
        "id": "5c77d00a"
      },
      "source": [
        "##### iii) Multi-Variate Analysis"
      ]
    },
    {
      "cell_type": "code",
      "execution_count": 10,
      "id": "c89d7696",
      "metadata": {
        "colab": {
          "base_uri": "https://localhost:8080/",
          "height": 726
        },
        "id": "c89d7696",
        "outputId": "d9952985-1ffc-44a3-87cf-109f97257b7a"
      },
      "outputs": [
        {
          "output_type": "display_data",
          "data": {
            "text/plain": [
              "<Figure size 684.125x720 with 20 Axes>"
            ],
            "image/png": "[encoded data removed]"
          },
          "metadata": {
            "needs_background": "light"
          }
        }
      ],
      "source": [
        "sns.pairplot(\n",
        "    data=df, \n",
        "    aspect=.85,\n",
        "    hue='Gender');"
      ]
    },
    {
      "cell_type": "markdown",
      "id": "3e60002e",
      "metadata": {
        "id": "3e60002e"
      },
      "source": [
        "### Perform descriptive statistics on the dataset."
      ]
    },
    {
      "cell_type": "code",
      "execution_count": 11,
      "id": "8c24f825",
      "metadata": {
        "colab": {
          "base_uri": "https://localhost:8080/",
          "height": 300
        },
        "id": "8c24f825",
        "outputId": "b670d3f9-2a8b-482e-d0a0-3cdb1048a8ce"
      },
      "outputs": [
        {
          "output_type": "execute_result",
          "data": {
            "text/plain": [
              "       CustomerID         Age  Annual Income (k$)  Spending Score (1-100)\n",
              "count  200.000000  200.000000          200.000000              200.000000\n",
              "mean   100.500000   38.850000           60.560000               50.200000\n",
              "std     57.879185   13.969007           26.264721               25.823522\n",
              "min      1.000000   18.000000           15.000000                1.000000\n",
              "25%     50.750000   28.750000           41.500000               34.750000\n",
              "50%    100.500000   36.000000           61.500000               50.000000\n",
              "75%    150.250000   49.000000           78.000000               73.000000\n",
              "max    200.000000   70.000000          137.000000               99.000000"
            ],
            "text/html": [
              "\n",
              "  <div id=\"df-f229546e-6239-4b2b-97dd-3032be228850\">\n",
              "    <div class=\"colab-df-container\">\n",
              "      <div>\n",
              "<style scoped>\n",
              "    .dataframe tbody tr th:only-of-type {\n",
              "        vertical-align: middle;\n",
              "    }\n",
              "\n",
              "    .dataframe tbody tr th {\n",
              "        vertical-align: top;\n",
              "    }\n",
              "\n",
              "    .dataframe thead th {\n",
              "        text-align: right;\n",
              "    }\n",
              "</style>\n",
              "<table border=\"1\" class=\"dataframe\">\n",
              "  <thead>\n",
              "    <tr style=\"text-align: right;\">\n",
              "      <th></th>\n",
              "      <th>CustomerID</th>\n",
              "      <th>Age</th>\n",
              "      <th>Annual Income (k$)</th>\n",
              "      <th>Spending Score (1-100)</th>\n",
              "    </tr>\n",
              "  </thead>\n",
              "  <tbody>\n",
              "    <tr>\n",
              "      <th>count</th>\n",
              "      <td>200.000000</td>\n",
              "      <td>200.000000</td>\n",
              "      <td>200.000000</td>\n",
              "      <td>200.000000</td>\n",
              "    </tr>\n",
              "    <tr>\n",
              "      <th>mean</th>\n",
              "      <td>100.500000</td>\n",
              "      <td>38.850000</td>\n",
              "      <td>60.560000</td>\n",
              "      <td>50.200000</td>\n",
              "    </tr>\n",
              "    <tr>\n",
              "      <th>std</th>\n",
              "      <td>57.879185</td>\n",
              "      <td>13.969007</td>\n",
              "      <td>26.264721</td>\n",
              "      <td>25.823522</td>\n",
              "    </tr>\n",
              "    <tr>\n",
              "      <th>min</th>\n",
              "      <td>1.000000</td>\n",
              "      <td>18.000000</td>\n",
              "      <td>15.000000</td>\n",
              "      <td>1.000000</td>\n",
              "    </tr>\n",
              "    <tr>\n",
              "      <th>25%</th>\n",
              "      <td>50.750000</td>\n",
              "      <td>28.750000</td>\n",
              "      <td>41.500000</td>\n",
              "      <td>34.750000</td>\n",
              "    </tr>\n",
              "    <tr>\n",
              "      <th>50%</th>\n",
              "      <td>100.500000</td>\n",
              "      <td>36.000000</td>\n",
              "      <td>61.500000</td>\n",
              "      <td>50.000000</td>\n",
              "    </tr>\n",
              "    <tr>\n",
              "      <th>75%</th>\n",
              "      <td>150.250000</td>\n",
              "      <td>49.000000</td>\n",
              "      <td>78.000000</td>\n",
              "      <td>73.000000</td>\n",
              "    </tr>\n",
              "    <tr>\n",
              "      <th>max</th>\n",
              "      <td>200.000000</td>\n",
              "      <td>70.000000</td>\n",
              "      <td>137.000000</td>\n",
              "      <td>99.000000</td>\n",
              "    </tr>\n",
              "  </tbody>\n",
              "</table>\n",
              "</div>\n",
              "      <button class=\"colab-df-convert\" onclick=\"convertToInteractive('df-f229546e-6239-4b2b-97dd-3032be228850')\"\n",
              "              title=\"Convert this dataframe to an interactive table.\"\n",
              "              style=\"display:none;\">\n",
              "        \n",
              "  <svg xmlns=\"http://www.w3.org/2000/svg\" height=\"24px\"viewBox=\"0 0 24 24\"\n",
              "       width=\"24px\">\n",
              "    <path d=\"M0 0h24v24H0V0z\" fill=\"none\"/>\n",
              "    <path d=\"M18.56 5.44l.94 2.06.94-2.06 2.06-.94-2.06-.94-.94-2.06-.94 2.06-2.06.94zm-11 1L8.5 8.5l.94-2.06 2.06-.94-2.06-.94L8.5 2.5l-.94 2.06-2.06.94zm10 10l.94 2.06.94-2.06 2.06-.94-2.06-.94-.94-2.06-.94 2.06-2.06.94z\"/><path d=\"M17.41 7.96l-1.37-1.37c-.4-.4-.92-.59-1.43-.59-.52 0-1.04.2-1.43.59L10.3 9.45l-7.72 7.72c-.78.78-.78 2.05 0 2.83L4 21.41c.39.39.9.59 1.41.59.51 0 1.02-.2 1.41-.59l7.78-7.78 2.81-2.81c.8-.78.8-2.07 0-2.86zM5.41 20L4 18.59l7.72-7.72 1.47 1.35L5.41 20z\"/>\n",
              "  </svg>\n",
              "      </button>\n",
              "      \n",
              "  <style>\n",
              "    .colab-df-container {\n",
              "      display:flex;\n",
              "      flex-wrap:wrap;\n",
              "      gap: 12px;\n",
              "    }\n",
              "\n",
              "    .colab-df-convert {\n",
              "      background-color: #E8F0FE;\n",
              "      border: none;\n",
              "      border-radius: 50%;\n",
              "      cursor: pointer;\n",
              "      display: none;\n",
              "      fill: #1967D2;\n",
              "      height: 32px;\n",
              "      padding: 0 0 0 0;\n",
              "      width: 32px;\n",
              "    }\n",
              "\n",
              "    .colab-df-convert:hover {\n",
              "      background-color: #E2EBFA;\n",
              "      box-shadow: 0px 1px 2px rgba(60, 64, 67, 0.3), 0px 1px 3px 1px rgba(60, 64, 67, 0.15);\n",
              "      fill: #174EA6;\n",
              "    }\n",
              "\n",
              "    [theme=dark] .colab-df-convert {\n",
              "      background-color: #3B4455;\n",
              "      fill: #D2E3FC;\n",
              "    }\n",
              "\n",
              "    [theme=dark] .colab-df-convert:hover {\n",
              "      background-color: #434B5C;\n",
              "      box-shadow: 0px 1px 3px 1px rgba(0, 0, 0, 0.15);\n",
              "      filter: drop-shadow(0px 1px 2px rgba(0, 0, 0, 0.3));\n",
              "      fill: #FFFFFF;\n",
              "    }\n",
              "  </style>\n",
              "\n",
              "      <script>\n",
              "        const buttonEl =\n",
              "          document.querySelector('#df-f229546e-6239-4b2b-97dd-3032be228850 button.colab-df-convert');\n",
              "        buttonEl.style.display =\n",
              "          google.colab.kernel.accessAllowed ? 'block' : 'none';\n",
              "\n",
              "        async function convertToInteractive(key) {\n",
              "          const element = document.querySelector('#df-f229546e-6239-4b2b-97dd-3032be228850');\n",
              "          const dataTable =\n",
              "            await google.colab.kernel.invokeFunction('convertToInteractive',\n",
              "                                                     [key], {});\n",
              "          if (!dataTable) return;\n",
              "\n",
              "          const docLinkHtml = 'Like what you see? Visit the ' +\n",
              "            '<a target=\"_blank\" href=https://colab.research.google.com/notebooks/data_table.ipynb>data table notebook</a>'\n",
              "            + ' to learn more about interactive tables.';\n",
              "          element.innerHTML = '';\n",
              "          dataTable['output_type'] = 'display_data';\n",
              "          await google.colab.output.renderOutput(dataTable, element);\n",
              "          const docLink = document.createElement('div');\n",
              "          docLink.innerHTML = docLinkHtml;\n",
              "          element.appendChild(docLink);\n",
              "        }\n",
              "      </script>\n",
              "    </div>\n",
              "  </div>\n",
              "  "
            ]
          },
          "metadata": {},
          "execution_count": 11
        }
      ],
      "source": [
        "df.describe()"
      ]
    },
    {
      "cell_type": "code",
      "execution_count": 12,
      "id": "fc2d623a",
      "metadata": {
        "colab": {
          "base_uri": "https://localhost:8080/"
        },
        "id": "fc2d623a",
        "outputId": "326c2019-a292-4340-b536-8e067392cd25"
      },
      "outputs": [
        {
          "output_type": "execute_result",
          "data": {
            "text/plain": [
              "(200, 5)"
            ]
          },
          "metadata": {},
          "execution_count": 12
        }
      ],
      "source": [
        "df.shape"
      ]
    },
    {
      "cell_type": "code",
      "execution_count": 13,
      "id": "3607c243",
      "metadata": {
        "colab": {
          "base_uri": "https://localhost:8080/"
        },
        "id": "3607c243",
        "outputId": "e646ad38-1cab-4d0a-e7a1-0bda8582db33"
      },
      "outputs": [
        {
          "output_type": "stream",
          "name": "stdout",
          "text": [
            "<class 'pandas.core.frame.DataFrame'>\n",
            "RangeIndex: 200 entries, 0 to 199\n",
            "Data columns (total 5 columns):\n",
            " #   Column                  Non-Null Count  Dtype \n",
            "---  ------                  --------------  ----- \n",
            " 0   CustomerID              200 non-null    int64 \n",
            " 1   Gender                  200 non-null    object\n",
            " 2   Age                     200 non-null    int64 \n",
            " 3   Annual Income (k$)      200 non-null    int64 \n",
            " 4   Spending Score (1-100)  200 non-null    int64 \n",
            "dtypes: int64(4), object(1)\n",
            "memory usage: 7.9+ KB\n"
          ]
        }
      ],
      "source": [
        "df.info()"
      ]
    },
    {
      "cell_type": "code",
      "execution_count": 14,
      "id": "c3de7b79",
      "metadata": {
        "colab": {
          "base_uri": "https://localhost:8080/"
        },
        "id": "c3de7b79",
        "outputId": "f147b096-6fd7-4073-d9a7-f99d7eb94060"
      },
      "outputs": [
        {
          "output_type": "stream",
          "name": "stderr",
          "text": [
            "/usr/local/lib/python3.7/dist-packages/ipykernel_launcher.py:1: FutureWarning: Dropping of nuisance columns in DataFrame reductions (with 'numeric_only=None') is deprecated; in a future version this will raise TypeError.  Select only valid columns before calling the reduction.\n",
            "  \"\"\"Entry point for launching an IPython kernel.\n"
          ]
        },
        {
          "output_type": "execute_result",
          "data": {
            "text/plain": [
              "CustomerID                100.50\n",
              "Age                        38.85\n",
              "Annual Income (k$)         60.56\n",
              "Spending Score (1-100)     50.20\n",
              "dtype: float64"
            ]
          },
          "metadata": {},
          "execution_count": 14
        }
      ],
      "source": [
        "df.mean()"
      ]
    },
    {
      "cell_type": "code",
      "execution_count": 15,
      "id": "35ae7658",
      "metadata": {
        "colab": {
          "base_uri": "https://localhost:8080/"
        },
        "id": "35ae7658",
        "outputId": "2954acbc-07cd-4876-9500-d03cd0104346"
      },
      "outputs": [
        {
          "output_type": "stream",
          "name": "stderr",
          "text": [
            "/usr/local/lib/python3.7/dist-packages/ipykernel_launcher.py:1: FutureWarning: Dropping of nuisance columns in DataFrame reductions (with 'numeric_only=None') is deprecated; in a future version this will raise TypeError.  Select only valid columns before calling the reduction.\n",
            "  \"\"\"Entry point for launching an IPython kernel.\n"
          ]
        },
        {
          "output_type": "execute_result",
          "data": {
            "text/plain": [
              "CustomerID                100.5\n",
              "Age                        36.0\n",
              "Annual Income (k$)         61.5\n",
              "Spending Score (1-100)     50.0\n",
              "dtype: float64"
            ]
          },
          "metadata": {},
          "execution_count": 15
        }
      ],
      "source": [
        "df.median()"
      ]
    },
    {
      "cell_type": "code",
      "execution_count": 16,
      "id": "a1dc4be4",
      "metadata": {
        "colab": {
          "base_uri": "https://localhost:8080/",
          "height": 424
        },
        "id": "a1dc4be4",
        "outputId": "a95c1ef7-4c4c-47f5-fc64-a0c8bd28cb45"
      },
      "outputs": [
        {
          "output_type": "execute_result",
          "data": {
            "text/plain": [
              "     CustomerID  Gender   Age  Annual Income (k$)  Spending Score (1-100)\n",
              "0             1  Female  32.0                54.0                    42.0\n",
              "1             2     NaN   NaN                78.0                     NaN\n",
              "2             3     NaN   NaN                 NaN                     NaN\n",
              "3             4     NaN   NaN                 NaN                     NaN\n",
              "4             5     NaN   NaN                 NaN                     NaN\n",
              "..          ...     ...   ...                 ...                     ...\n",
              "195         196     NaN   NaN                 NaN                     NaN\n",
              "196         197     NaN   NaN                 NaN                     NaN\n",
              "197         198     NaN   NaN                 NaN                     NaN\n",
              "198         199     NaN   NaN                 NaN                     NaN\n",
              "199         200     NaN   NaN                 NaN                     NaN\n",
              "\n",
              "[200 rows x 5 columns]"
            ],
            "text/html": [
              "\n",
              "  <div id=\"df-888227a7-9ba7-468d-8892-1823ec358614\">\n",
              "    <div class=\"colab-df-container\">\n",
              "      <div>\n",
              "<style scoped>\n",
              "    .dataframe tbody tr th:only-of-type {\n",
              "        vertical-align: middle;\n",
              "    }\n",
              "\n",
              "    .dataframe tbody tr th {\n",
              "        vertical-align: top;\n",
              "    }\n",
              "\n",
              "    .dataframe thead th {\n",
              "        text-align: right;\n",
              "    }\n",
              "</style>\n",
              "<table border=\"1\" class=\"dataframe\">\n",
              "  <thead>\n",
              "    <tr style=\"text-align: right;\">\n",
              "      <th></th>\n",
              "      <th>CustomerID</th>\n",
              "      <th>Gender</th>\n",
              "      <th>Age</th>\n",
              "      <th>Annual Income (k$)</th>\n",
              "      <th>Spending Score (1-100)</th>\n",
              "    </tr>\n",
              "  </thead>\n",
              "  <tbody>\n",
              "    <tr>\n",
              "      <th>0</th>\n",
              "      <td>1</td>\n",
              "      <td>Female</td>\n",
              "      <td>32.0</td>\n",
              "      <td>54.0</td>\n",
              "      <td>42.0</td>\n",
              "    </tr>\n",
              "    <tr>\n",
              "      <th>1</th>\n",
              "      <td>2</td>\n",
              "      <td>NaN</td>\n",
              "      <td>NaN</td>\n",
              "      <td>78.0</td>\n",
              "      <td>NaN</td>\n",
              "    </tr>\n",
              "    <tr>\n",
              "      <th>2</th>\n",
              "      <td>3</td>\n",
              "      <td>NaN</td>\n",
              "      <td>NaN</td>\n",
              "      <td>NaN</td>\n",
              "      <td>NaN</td>\n",
              "    </tr>\n",
              "    <tr>\n",
              "      <th>3</th>\n",
              "      <td>4</td>\n",
              "      <td>NaN</td>\n",
              "      <td>NaN</td>\n",
              "      <td>NaN</td>\n",
              "      <td>NaN</td>\n",
              "    </tr>\n",
              "    <tr>\n",
              "      <th>4</th>\n",
              "      <td>5</td>\n",
              "      <td>NaN</td>\n",
              "      <td>NaN</td>\n",
              "      <td>NaN</td>\n",
              "      <td>NaN</td>\n",
              "    </tr>\n",
              "    <tr>\n",
              "      <th>...</th>\n",
              "      <td>...</td>\n",
              "      <td>...</td>\n",
              "      <td>...</td>\n",
              "      <td>...</td>\n",
              "      <td>...</td>\n",
              "    </tr>\n",
              "    <tr>\n",
              "      <th>195</th>\n",
              "      <td>196</td>\n",
              "      <td>NaN</td>\n",
              "      <td>NaN</td>\n",
              "      <td>NaN</td>\n",
              "      <td>NaN</td>\n",
              "    </tr>\n",
              "    <tr>\n",
              "      <th>196</th>\n",
              "      <td>197</td>\n",
              "      <td>NaN</td>\n",
              "      <td>NaN</td>\n",
              "      <td>NaN</td>\n",
              "      <td>NaN</td>\n",
              "    </tr>\n",
              "    <tr>\n",
              "      <th>197</th>\n",
              "      <td>198</td>\n",
              "      <td>NaN</td>\n",
              "      <td>NaN</td>\n",
              "      <td>NaN</td>\n",
              "      <td>NaN</td>\n",
              "    </tr>\n",
              "    <tr>\n",
              "      <th>198</th>\n",
              "      <td>199</td>\n",
              "      <td>NaN</td>\n",
              "      <td>NaN</td>\n",
              "      <td>NaN</td>\n",
              "      <td>NaN</td>\n",
              "    </tr>\n",
              "    <tr>\n",
              "      <th>199</th>\n",
              "      <td>200</td>\n",
              "      <td>NaN</td>\n",
              "      <td>NaN</td>\n",
              "      <td>NaN</td>\n",
              "      <td>NaN</td>\n",
              "    </tr>\n",
              "  </tbody>\n",
              "</table>\n",
              "<p>200 rows × 5 columns</p>\n",
              "</div>\n",
              "      <button class=\"colab-df-convert\" onclick=\"convertToInteractive('df-888227a7-9ba7-468d-8892-1823ec358614')\"\n",
              "              title=\"Convert this dataframe to an interactive table.\"\n",
              "              style=\"display:none;\">\n",
              "        \n",
              "  <svg xmlns=\"http://www.w3.org/2000/svg\" height=\"24px\"viewBox=\"0 0 24 24\"\n",
              "       width=\"24px\">\n",
              "    <path d=\"M0 0h24v24H0V0z\" fill=\"none\"/>\n",
              "    <path d=\"M18.56 5.44l.94 2.06.94-2.06 2.06-.94-2.06-.94-.94-2.06-.94 2.06-2.06.94zm-11 1L8.5 8.5l.94-2.06 2.06-.94-2.06-.94L8.5 2.5l-.94 2.06-2.06.94zm10 10l.94 2.06.94-2.06 2.06-.94-2.06-.94-.94-2.06-.94 2.06-2.06.94z\"/><path d=\"M17.41 7.96l-1.37-1.37c-.4-.4-.92-.59-1.43-.59-.52 0-1.04.2-1.43.59L10.3 9.45l-7.72 7.72c-.78.78-.78 2.05 0 2.83L4 21.41c.39.39.9.59 1.41.59.51 0 1.02-.2 1.41-.59l7.78-7.78 2.81-2.81c.8-.78.8-2.07 0-2.86zM5.41 20L4 18.59l7.72-7.72 1.47 1.35L5.41 20z\"/>\n",
              "  </svg>\n",
              "      </button>\n",
              "      \n",
              "  <style>\n",
              "    .colab-df-container {\n",
              "      display:flex;\n",
              "      flex-wrap:wrap;\n",
              "      gap: 12px;\n",
              "    }\n",
              "\n",
              "    .colab-df-convert {\n",
              "      background-color: #E8F0FE;\n",
              "      border: none;\n",
              "      border-radius: 50%;\n",
              "      cursor: pointer;\n",
              "      display: none;\n",
              "      fill: #1967D2;\n",
              "      height: 32px;\n",
              "      padding: 0 0 0 0;\n",
              "      width: 32px;\n",
              "    }\n",
              "\n",
              "    .colab-df-convert:hover {\n",
              "      background-color: #E2EBFA;\n",
              "      box-shadow: 0px 1px 2px rgba(60, 64, 67, 0.3), 0px 1px 3px 1px rgba(60, 64, 67, 0.15);\n",
              "      fill: #174EA6;\n",
              "    }\n",
              "\n",
              "    [theme=dark] .colab-df-convert {\n",
              "      background-color: #3B4455;\n",
              "      fill: #D2E3FC;\n",
              "    }\n",
              "\n",
              "    [theme=dark] .colab-df-convert:hover {\n",
              "      background-color: #434B5C;\n",
              "      box-shadow: 0px 1px 3px 1px rgba(0, 0, 0, 0.15);\n",
              "      filter: drop-shadow(0px 1px 2px rgba(0, 0, 0, 0.3));\n",
              "      fill: #FFFFFF;\n",
              "    }\n",
              "  </style>\n",
              "\n",
              "      <script>\n",
              "        const buttonEl =\n",
              "          document.querySelector('#df-888227a7-9ba7-468d-8892-1823ec358614 button.colab-df-convert');\n",
              "        buttonEl.style.display =\n",
              "          google.colab.kernel.accessAllowed ? 'block' : 'none';\n",
              "\n",
              "        async function convertToInteractive(key) {\n",
              "          const element = document.querySelector('#df-888227a7-9ba7-468d-8892-1823ec358614');\n",
              "          const dataTable =\n",
              "            await google.colab.kernel.invokeFunction('convertToInteractive',\n",
              "                                                     [key], {});\n",
              "          if (!dataTable) return;\n",
              "\n",
              "          const docLinkHtml = 'Like what you see? Visit the ' +\n",
              "            '<a target=\"_blank\" href=https://colab.research.google.com/notebooks/data_table.ipynb>data table notebook</a>'\n",
              "            + ' to learn more about interactive tables.';\n",
              "          element.innerHTML = '';\n",
              "          dataTable['output_type'] = 'display_data';\n",
              "          await google.colab.output.renderOutput(dataTable, element);\n",
              "          const docLink = document.createElement('div');\n",
              "          docLink.innerHTML = docLinkHtml;\n",
              "          element.appendChild(docLink);\n",
              "        }\n",
              "      </script>\n",
              "    </div>\n",
              "  </div>\n",
              "  "
            ]
          },
          "metadata": {},
          "execution_count": 16
        }
      ],
      "source": [
        "df.mode()"
      ]
    },
    {
      "cell_type": "markdown",
      "id": "d3e19285",
      "metadata": {
        "id": "d3e19285"
      },
      "source": [
        "### Check for Missing values and deal with them."
      ]
    },
    {
      "cell_type": "code",
      "execution_count": 17,
      "id": "578ed65c",
      "metadata": {
        "colab": {
          "base_uri": "https://localhost:8080/"
        },
        "id": "578ed65c",
        "outputId": "45b94117-a059-494d-ca53-22829d33867b"
      },
      "outputs": [
        {
          "output_type": "execute_result",
          "data": {
            "text/plain": [
              "CustomerID                0\n",
              "Gender                    0\n",
              "Age                       0\n",
              "Annual Income (k$)        0\n",
              "Spending Score (1-100)    0\n",
              "dtype: int64"
            ]
          },
          "metadata": {},
          "execution_count": 17
        }
      ],
      "source": [
        "df.isna().sum()"
      ]
    },
    {
      "cell_type": "markdown",
      "id": "32d3d39e",
      "metadata": {
        "id": "32d3d39e"
      },
      "source": [
        "### Find the outliers and replace them outliers"
      ]
    },
    {
      "cell_type": "code",
      "execution_count": 84,
      "id": "cc858603",
      "metadata": {
        "colab": {
          "base_uri": "https://localhost:8080/",
          "height": 351
        },
        "id": "cc858603",
        "outputId": "5d7114e2-4b92-456b-eb5f-bcd718c9b055"
      },
      "outputs": [
        {
          "output_type": "stream",
          "name": "stderr",
          "text": [
            "/usr/local/lib/python3.7/dist-packages/seaborn/_decorators.py:43: FutureWarning: Pass the following variable as a keyword arg: x. From version 0.12, the only valid positional argument will be `data`, and passing other arguments without an explicit keyword will result in an error or misinterpretation.\n",
            "  FutureWarning\n"
          ]
        },
        {
          "output_type": "execute_result",
          "data": {
            "text/plain": [
              "<matplotlib.axes._subplots.AxesSubplot at 0x7fb2d01ca690>"
            ]
          },
          "metadata": {},
          "execution_count": 84
        },
        {
          "output_type": "display_data",
          "data": {
            "text/plain": [
              "<Figure size 432x288 with 1 Axes>"
            ],
            "image/png": "[encoded data removed]"
          },
          "metadata": {
            "needs_background": "light"
          }
        }
      ],
      "source": [
        "sns.boxplot(df['Annual Income (k$)'],data=df)"
      ]
    },
    {
      "cell_type": "code",
      "execution_count": 19,
      "id": "14637bc4",
      "metadata": {
        "colab": {
          "base_uri": "https://localhost:8080/"
        },
        "id": "14637bc4",
        "outputId": "ba26d7cd-9b08-40f5-adc6-777f46435e81"
      },
      "outputs": [
        {
          "output_type": "execute_result",
          "data": {
            "text/plain": [
              "0.3218425498619055"
            ]
          },
          "metadata": {},
          "execution_count": 19
        }
      ],
      "source": [
        "df['Annual Income (k$)'].skew()"
      ]
    },
    {
      "cell_type": "code",
      "execution_count": 20,
      "id": "363f7c48",
      "metadata": {
        "id": "363f7c48"
      },
      "outputs": [],
      "source": [
        "quartile1=df['Annual Income (k$)'].quantile(0.25)\n",
        "quartile2=df['Annual Income (k$)'].quantile(0.75)\n",
        "Interquartile_range=quartile2-quartile1\n",
        "whisker_width = 1.5\n",
        "lower_whisker = quartile1 -(whisker_width*Interquartile_range)\n",
        "upper_whisker = quartile2 + (whisker_width*Interquartile_range)\n",
        "df['Annual Income (k$)']=np.where((df['Annual Income (k$)'])>upper_whisker,upper_whisker,np.where(df['Annual Income (k$)']<lower_whisker,lower_whisker,df['Annual Income (k$)']))"
      ]
    },
    {
      "cell_type": "code",
      "execution_count": 21,
      "id": "ecac3bfd",
      "metadata": {
        "colab": {
          "base_uri": "https://localhost:8080/",
          "height": 351
        },
        "id": "ecac3bfd",
        "outputId": "c35d4409-6bc7-4f57-acb4-0f9cd55e3e03"
      },
      "outputs": [
        {
          "output_type": "stream",
          "name": "stderr",
          "text": [
            "/usr/local/lib/python3.7/dist-packages/seaborn/_decorators.py:43: FutureWarning: Pass the following variable as a keyword arg: x. From version 0.12, the only valid positional argument will be `data`, and passing other arguments without an explicit keyword will result in an error or misinterpretation.\n",
            "  FutureWarning\n"
          ]
        },
        {
          "output_type": "execute_result",
          "data": {
            "text/plain": [
              "<matplotlib.axes._subplots.AxesSubplot at 0x7fb2d28cbfd0>"
            ]
          },
          "metadata": {},
          "execution_count": 21
        },
        {
          "output_type": "display_data",
          "data": {
            "text/plain": [
              "<Figure size 432x288 with 1 Axes>"
            ],
            "image/png": "[encoded data removed]"
          },
          "metadata": {
            "needs_background": "light"
          }
        }
      ],
      "source": [
        "sns.boxplot(df['Annual Income (k$)'],data=df)"
      ]
    },
    {
      "cell_type": "markdown",
      "id": "46c0647d",
      "metadata": {
        "id": "46c0647d"
      },
      "source": [
        "### Check for Categorical columns and perform encoding."
      ]
    },
    {
      "cell_type": "code",
      "execution_count": 54,
      "id": "f6c0c895",
      "metadata": {
        "colab": {
          "base_uri": "https://localhost:8080/"
        },
        "id": "f6c0c895",
        "outputId": "587d4148-969f-4783-b7d6-65b09f43b3b1"
      },
      "outputs": [
        {
          "output_type": "stream",
          "name": "stdout",
          "text": [
            "The number of numerical variables:  4\n",
            "The number of categorical variables:  1\n"
          ]
        }
      ],
      "source": [
        "\n",
        "numeric_data = df.select_dtypes(include = [np.number]) \n",
        "categorical_data = df.select_dtypes(exclude = [np.number]) \n",
        "\n",
        "print(\"The number of numerical variables: \", numeric_data.shape[1]) \n",
        "print(\"The number of categorical variables: \", categorical_data.shape[1])"
      ]
    },
    {
      "cell_type": "code",
      "execution_count": 55,
      "id": "fd8feee2",
      "metadata": {
        "colab": {
          "base_uri": "https://localhost:8080/"
        },
        "id": "fd8feee2",
        "outputId": "10df4820-53fc-4c3f-e9e5-9333c9c0f070"
      },
      "outputs": [
        {
          "output_type": "stream",
          "name": "stdout",
          "text": [
            "The number of categorical variables:  1\n"
          ]
        },
        {
          "output_type": "execute_result",
          "data": {
            "text/plain": [
              "['Gender']"
            ]
          },
          "metadata": {},
          "execution_count": 55
        }
      ],
      "source": [
        "print(\"The number of categorical variables: \", categorical_data.shape[1]) \n",
        "\n",
        "Categorical_variables = list(categorical_data.columns)\n",
        "Categorical_variables"
      ]
    },
    {
      "cell_type": "code",
      "execution_count": 57,
      "id": "54105a23",
      "metadata": {
        "colab": {
          "base_uri": "https://localhost:8080/"
        },
        "id": "54105a23",
        "outputId": "357192f9-c233-46e9-ba0b-c1986b46ad01"
      },
      "outputs": [
        {
          "output_type": "execute_result",
          "data": {
            "text/plain": [
              "Female    112\n",
              "Male       88\n",
              "Name: Gender, dtype: int64"
            ]
          },
          "metadata": {},
          "execution_count": 57
        }
      ],
      "source": [
        "df['Gender'].value_counts()"
      ]
    },
    {
      "cell_type": "code",
      "execution_count": 58,
      "id": "71d50ca5",
      "metadata": {
        "id": "71d50ca5"
      },
      "outputs": [],
      "source": [
        "from sklearn.preprocessing import LabelEncoder\n",
        "le = LabelEncoder()\n",
        "label = le.fit_transform(df['Gender'])\n",
        "df[\"Gender\"] = label"
      ]
    },
    {
      "cell_type": "code",
      "source": [
        "df['Gender'].value_counts()"
      ],
      "metadata": {
        "colab": {
          "base_uri": "https://localhost:8080/"
        },
        "id": "fhLLWt71vwFy",
        "outputId": "4589e396-82e6-4eb3-e823-be15a738217a"
      },
      "id": "fhLLWt71vwFy",
      "execution_count": 60,
      "outputs": [
        {
          "output_type": "execute_result",
          "data": {
            "text/plain": [
              "0    112\n",
              "1     88\n",
              "Name: Gender, dtype: int64"
            ]
          },
          "metadata": {},
          "execution_count": 60
        }
      ]
    },
    {
      "cell_type": "markdown",
      "id": "cbe3b8e6",
      "metadata": {
        "id": "cbe3b8e6"
      },
      "source": [
        "### Scaling the data"
      ]
    },
    {
      "cell_type": "code",
      "execution_count": 62,
      "id": "ae3336f6",
      "metadata": {
        "id": "ae3336f6"
      },
      "outputs": [],
      "source": [
        "X = df.drop(\"Age\", axis=1)\n",
        "Y = df['Age']"
      ]
    },
    {
      "cell_type": "code",
      "execution_count": 74,
      "id": "fd9855d6",
      "metadata": {
        "colab": {
          "base_uri": "https://localhost:8080/"
        },
        "id": "fd9855d6",
        "outputId": "8cb6bdd7-7f8d-4484-ef40-5fca65d349cb"
      },
      "outputs": [
        {
          "output_type": "stream",
          "name": "stdout",
          "text": [
            "[[-1.7234121   1.12815215 -1.74542941 -0.43480148]\n",
            " [-1.70609137  1.12815215 -1.74542941  1.19570407]\n",
            " [-1.68877065 -0.88640526 -1.70708307 -1.71591298]\n",
            " [-1.67144992 -0.88640526 -1.70708307  1.04041783]\n",
            " [-1.6541292  -0.88640526 -1.66873673 -0.39597992]\n",
            " [-1.63680847 -0.88640526 -1.66873673  1.00159627]\n",
            " [-1.61948775 -0.88640526 -1.6303904  -1.71591298]\n",
            " [-1.60216702 -0.88640526 -1.6303904   1.70038436]\n",
            " [-1.5848463   1.12815215 -1.59204406 -1.83237767]\n",
            " [-1.56752558 -0.88640526 -1.59204406  0.84631002]\n",
            " [-1.55020485  1.12815215 -1.59204406 -1.4053405 ]\n",
            " [-1.53288413 -0.88640526 -1.59204406  1.89449216]\n",
            " [-1.5155634  -0.88640526 -1.55369772 -1.36651894]\n",
            " [-1.49824268 -0.88640526 -1.55369772  1.04041783]\n",
            " [-1.48092195  1.12815215 -1.55369772 -1.44416206]\n",
            " [-1.46360123  1.12815215 -1.55369772  1.11806095]\n",
            " [-1.4462805  -0.88640526 -1.51535138 -0.59008772]\n",
            " [-1.42895978  1.12815215 -1.51535138  0.61338066]\n",
            " [-1.41163905  1.12815215 -1.43865871 -0.82301709]\n",
            " [-1.39431833 -0.88640526 -1.43865871  1.8556706 ]\n",
            " [-1.3769976   1.12815215 -1.40031237 -0.59008772]\n",
            " [-1.35967688  1.12815215 -1.40031237  0.88513158]\n",
            " [-1.34235616 -0.88640526 -1.36196603 -1.75473454]\n",
            " [-1.32503543  1.12815215 -1.36196603  0.88513158]\n",
            " [-1.30771471 -0.88640526 -1.24692702 -1.4053405 ]\n",
            " [-1.29039398  1.12815215 -1.24692702  1.23452563]\n",
            " [-1.27307326 -0.88640526 -1.24692702 -0.7065524 ]\n",
            " [-1.25575253  1.12815215 -1.24692702  0.41927286]\n",
            " [-1.23843181 -0.88640526 -1.20858069 -0.74537397]\n",
            " [-1.22111108 -0.88640526 -1.20858069  1.42863343]\n",
            " [-1.20379036  1.12815215 -1.17023435 -1.7935561 ]\n",
            " [-1.18646963 -0.88640526 -1.17023435  0.88513158]\n",
            " [-1.16914891  1.12815215 -1.05519534 -1.7935561 ]\n",
            " [-1.15182818  1.12815215 -1.05519534  1.62274124]\n",
            " [-1.13450746 -0.88640526 -1.05519534 -1.4053405 ]\n",
            " [-1.11718674 -0.88640526 -1.05519534  1.19570407]\n",
            " [-1.09986601 -0.88640526 -1.016849   -1.28887582]\n",
            " [-1.08254529 -0.88640526 -1.016849    0.88513158]\n",
            " [-1.06522456 -0.88640526 -0.90180999 -0.93948177]\n",
            " [-1.04790384 -0.88640526 -0.90180999  0.96277471]\n",
            " [-1.03058311 -0.88640526 -0.86346365 -0.59008772]\n",
            " [-1.01326239  1.12815215 -0.86346365  1.62274124]\n",
            " [-0.99594166  1.12815215 -0.82511731 -0.55126616]\n",
            " [-0.97862094 -0.88640526 -0.82511731  0.41927286]\n",
            " [-0.96130021 -0.88640526 -0.82511731 -0.86183865]\n",
            " [-0.94397949 -0.88640526 -0.82511731  0.5745591 ]\n",
            " [-0.92665877 -0.88640526 -0.78677098  0.18634349]\n",
            " [-0.90933804 -0.88640526 -0.78677098 -0.12422899]\n",
            " [-0.89201732 -0.88640526 -0.78677098 -0.3183368 ]\n",
            " [-0.87469659 -0.88640526 -0.78677098 -0.3183368 ]\n",
            " [-0.85737587 -0.88640526 -0.7100783   0.06987881]\n",
            " [-0.84005514  1.12815215 -0.7100783   0.38045129]\n",
            " [-0.82273442 -0.88640526 -0.67173196  0.14752193]\n",
            " [-0.80541369  1.12815215 -0.67173196  0.38045129]\n",
            " [-0.78809297 -0.88640526 -0.67173196 -0.20187212]\n",
            " [-0.77077224  1.12815215 -0.67173196 -0.35715836]\n",
            " [-0.75345152 -0.88640526 -0.63338563 -0.00776431]\n",
            " [-0.73613079  1.12815215 -0.63338563 -0.16305055]\n",
            " [-0.71881007 -0.88640526 -0.55669295  0.03105725]\n",
            " [-0.70148935  1.12815215 -0.55669295 -0.16305055]\n",
            " [-0.68416862  1.12815215 -0.55669295  0.22516505]\n",
            " [-0.6668479   1.12815215 -0.55669295  0.18634349]\n",
            " [-0.64952717 -0.88640526 -0.51834661  0.06987881]\n",
            " [-0.63220645 -0.88640526 -0.51834661  0.34162973]\n",
            " [-0.61488572  1.12815215 -0.48000028  0.03105725]\n",
            " [-0.597565    1.12815215 -0.48000028  0.34162973]\n",
            " [-0.58024427 -0.88640526 -0.48000028 -0.00776431]\n",
            " [-0.56292355 -0.88640526 -0.48000028 -0.08540743]\n",
            " [-0.54560282  1.12815215 -0.48000028  0.34162973]\n",
            " [-0.5282821  -0.88640526 -0.48000028 -0.12422899]\n",
            " [-0.51096138  1.12815215 -0.44165394  0.18634349]\n",
            " [-0.49364065 -0.88640526 -0.44165394 -0.3183368 ]\n",
            " [-0.47631993 -0.88640526 -0.4033076  -0.04658587]\n",
            " [-0.4589992  -0.88640526 -0.4033076   0.22516505]\n",
            " [-0.44167848  1.12815215 -0.24992225 -0.12422899]\n",
            " [-0.42435775  1.12815215 -0.24992225  0.14752193]\n",
            " [-0.40703703 -0.88640526 -0.24992225  0.10870037]\n",
            " [-0.3897163   1.12815215 -0.24992225 -0.08540743]\n",
            " [-0.37239558 -0.88640526 -0.24992225  0.06987881]\n",
            " [-0.35507485 -0.88640526 -0.24992225 -0.3183368 ]\n",
            " [-0.33775413  1.12815215 -0.24992225  0.03105725]\n",
            " [-0.3204334   1.12815215 -0.24992225  0.18634349]\n",
            " [-0.30311268  1.12815215 -0.24992225 -0.35715836]\n",
            " [-0.28579196 -0.88640526 -0.24992225 -0.24069368]\n",
            " [-0.26847123 -0.88640526 -0.24992225  0.26398661]\n",
            " [-0.25115051  1.12815215 -0.24992225 -0.16305055]\n",
            " [-0.23382978 -0.88640526 -0.13488324  0.30280817]\n",
            " [-0.21650906 -0.88640526 -0.13488324  0.18634349]\n",
            " [-0.19918833 -0.88640526 -0.0965369   0.38045129]\n",
            " [-0.18186761 -0.88640526 -0.0965369  -0.16305055]\n",
            " [-0.16454688 -0.88640526 -0.05819057  0.18634349]\n",
            " [-0.14722616  1.12815215 -0.05819057 -0.35715836]\n",
            " [-0.12990543  1.12815215 -0.01984423 -0.04658587]\n",
            " [-0.11258471 -0.88640526 -0.01984423 -0.39597992]\n",
            " [-0.09526399 -0.88640526 -0.01984423 -0.3183368 ]\n",
            " [-0.07794326  1.12815215 -0.01984423  0.06987881]\n",
            " [-0.06062254 -0.88640526 -0.01984423 -0.12422899]\n",
            " [-0.04330181 -0.88640526 -0.01984423 -0.00776431]\n",
            " [-0.02598109  1.12815215  0.01850211 -0.3183368 ]\n",
            " [-0.00866036  1.12815215  0.01850211 -0.04658587]\n",
            " [ 0.00866036 -0.88640526  0.05684845 -0.35715836]\n",
            " [ 0.02598109 -0.88640526  0.05684845 -0.08540743]\n",
            " [ 0.04330181  1.12815215  0.05684845  0.34162973]\n",
            " [ 0.06062254  1.12815215  0.05684845  0.18634349]\n",
            " [ 0.07794326  1.12815215  0.05684845  0.22516505]\n",
            " [ 0.09526399 -0.88640526  0.05684845 -0.3183368 ]\n",
            " [ 0.11258471 -0.88640526  0.09519478 -0.00776431]\n",
            " [ 0.12990543  1.12815215  0.09519478 -0.16305055]\n",
            " [ 0.14722616  1.12815215  0.09519478 -0.27951524]\n",
            " [ 0.16454688  1.12815215  0.09519478 -0.08540743]\n",
            " [ 0.18186761  1.12815215  0.09519478  0.06987881]\n",
            " [ 0.19918833 -0.88640526  0.09519478  0.14752193]\n",
            " [ 0.21650906 -0.88640526  0.13354112 -0.3183368 ]\n",
            " [ 0.23382978  1.12815215  0.13354112 -0.16305055]\n",
            " [ 0.25115051 -0.88640526  0.17188746 -0.08540743]\n",
            " [ 0.26847123 -0.88640526  0.17188746 -0.00776431]\n",
            " [ 0.28579196 -0.88640526  0.17188746 -0.27951524]\n",
            " [ 0.30311268 -0.88640526  0.17188746  0.34162973]\n",
            " [ 0.3204334  -0.88640526  0.24858013 -0.27951524]\n",
            " [ 0.33775413 -0.88640526  0.24858013  0.26398661]\n",
            " [ 0.35507485  1.12815215  0.24858013  0.22516505]\n",
            " [ 0.37239558 -0.88640526  0.24858013 -0.39597992]\n",
            " [ 0.3897163  -0.88640526  0.32527281  0.30280817]\n",
            " [ 0.40703703  1.12815215  0.32527281  1.58391968]\n",
            " [ 0.42435775 -0.88640526  0.36361914 -0.82301709]\n",
            " [ 0.44167848 -0.88640526  0.36361914  1.04041783]\n",
            " [ 0.4589992   1.12815215  0.40196548 -0.59008772]\n",
            " [ 0.47631993  1.12815215  0.40196548  1.73920592]\n",
            " [ 0.49364065  1.12815215  0.40196548 -1.52180518]\n",
            " [ 0.51096138  1.12815215  0.40196548  0.96277471]\n",
            " [ 0.5282821   1.12815215  0.40196548 -1.5994483 ]\n",
            " [ 0.54560282  1.12815215  0.40196548  0.96277471]\n",
            " [ 0.56292355 -0.88640526  0.44031182 -0.62890928]\n",
            " [ 0.58024427 -0.88640526  0.44031182  0.80748846]\n",
            " [ 0.597565    1.12815215  0.47865816 -1.75473454]\n",
            " [ 0.61488572 -0.88640526  0.47865816  1.46745499]\n",
            " [ 0.63220645 -0.88640526  0.47865816 -1.67709142]\n",
            " [ 0.64952717  1.12815215  0.47865816  0.88513158]\n",
            " [ 0.6668479   1.12815215  0.51700449 -1.56062674]\n",
            " [ 0.68416862 -0.88640526  0.51700449  0.84631002]\n",
            " [ 0.70148935 -0.88640526  0.55535083 -1.75473454]\n",
            " [ 0.71881007  1.12815215  0.55535083  1.6615628 ]\n",
            " [ 0.73613079 -0.88640526  0.59369717 -0.39597992]\n",
            " [ 0.75345152 -0.88640526  0.59369717  1.42863343]\n",
            " [ 0.77077224  1.12815215  0.6320435  -1.48298362]\n",
            " [ 0.78809297  1.12815215  0.6320435   1.81684904]\n",
            " [ 0.80541369  1.12815215  0.6320435  -0.55126616]\n",
            " [ 0.82273442 -0.88640526  0.6320435   0.92395314]\n",
            " [ 0.84005514 -0.88640526  0.67038984 -1.09476801]\n",
            " [ 0.85737587  1.12815215  0.67038984  1.54509812]\n",
            " [ 0.87469659  1.12815215  0.67038984 -1.28887582]\n",
            " [ 0.89201732  1.12815215  0.67038984  1.46745499]\n",
            " [ 0.90933804 -0.88640526  0.67038984 -1.17241113]\n",
            " [ 0.92665877 -0.88640526  0.67038984  1.00159627]\n",
            " [ 0.94397949 -0.88640526  0.67038984 -1.32769738]\n",
            " [ 0.96130021 -0.88640526  0.67038984  1.50627656]\n",
            " [ 0.97862094  1.12815215  0.67038984 -1.91002079]\n",
            " [ 0.99594166 -0.88640526  0.67038984  1.07923939]\n",
            " [ 1.01326239  1.12815215  0.67038984 -1.91002079]\n",
            " [ 1.03058311 -0.88640526  0.67038984  0.88513158]\n",
            " [ 1.04790384 -0.88640526  0.70873618 -0.59008772]\n",
            " [ 1.06522456 -0.88640526  0.70873618  1.27334719]\n",
            " [ 1.08254529  1.12815215  0.78542885 -1.75473454]\n",
            " [ 1.09986601 -0.88640526  0.78542885  1.6615628 ]\n",
            " [ 1.11718674  1.12815215  0.9388142  -0.93948177]\n",
            " [ 1.13450746 -0.88640526  0.9388142   0.96277471]\n",
            " [ 1.15182818  1.12815215  0.97716054 -1.17241113]\n",
            " [ 1.16914891 -0.88640526  0.97716054  1.73920592]\n",
            " [ 1.18646963 -0.88640526  1.01550688 -0.90066021]\n",
            " [ 1.20379036  1.12815215  1.01550688  0.49691598]\n",
            " [ 1.22111108  1.12815215  1.01550688 -1.44416206]\n",
            " [ 1.23843181  1.12815215  1.01550688  0.96277471]\n",
            " [ 1.25575253  1.12815215  1.01550688 -1.56062674]\n",
            " [ 1.27307326  1.12815215  1.01550688  1.62274124]\n",
            " [ 1.29039398 -0.88640526  1.05385321 -1.44416206]\n",
            " [ 1.30771471 -0.88640526  1.05385321  1.38981187]\n",
            " [ 1.32503543  1.12815215  1.05385321 -1.36651894]\n",
            " [ 1.34235616  1.12815215  1.05385321  0.72984534]\n",
            " [ 1.35967688  1.12815215  1.2455849  -1.4053405 ]\n",
            " [ 1.3769976   1.12815215  1.2455849   1.54509812]\n",
            " [ 1.39431833 -0.88640526  1.39897025 -0.7065524 ]\n",
            " [ 1.41163905 -0.88640526  1.39897025  1.38981187]\n",
            " [ 1.42895978  1.12815215  1.43731659 -1.36651894]\n",
            " [ 1.4462805  -0.88640526  1.43731659  1.46745499]\n",
            " [ 1.46360123 -0.88640526  1.47566292 -0.43480148]\n",
            " [ 1.48092195  1.12815215  1.47566292  1.81684904]\n",
            " [ 1.49824268 -0.88640526  1.5523556  -1.01712489]\n",
            " [ 1.5155634   1.12815215  1.5523556   0.69102378]\n",
            " [ 1.53288413 -0.88640526  1.62904827 -1.28887582]\n",
            " [ 1.55020485 -0.88640526  1.62904827  1.35099031]\n",
            " [ 1.56752558 -0.88640526  1.62904827 -1.05594645]\n",
            " [ 1.5848463  -0.88640526  1.62904827  0.72984534]\n",
            " [ 1.60216702  1.12815215  2.01251165 -1.63826986]\n",
            " [ 1.61948775 -0.88640526  2.01251165  1.58391968]\n",
            " [ 1.63680847 -0.88640526  2.28093601 -1.32769738]\n",
            " [ 1.6541292  -0.88640526  2.28093601  1.11806095]\n",
            " [ 1.67144992 -0.88640526  2.51101403 -0.86183865]\n",
            " [ 1.68877065  1.12815215  2.51101403  0.92395314]\n",
            " [ 1.70609137  1.12815215  2.76985181 -1.25005425]\n",
            " [ 1.7234121   1.12815215  2.76985181  1.27334719]]\n"
          ]
        }
      ],
      "source": [
        "from sklearn.preprocessing import StandardScaler\n",
        "object= StandardScaler()\n",
        "scale = object.fit_transform(X) \n",
        "print(scale)"
      ]
    },
    {
      "cell_type": "code",
      "source": [
        "X_scaled  = pd.DataFrame(scale, columns = X.columns)\n",
        "X_scaled"
      ],
      "metadata": {
        "colab": {
          "base_uri": "https://localhost:8080/",
          "height": 424
        },
        "id": "gELyDtHbwdmV",
        "outputId": "6f2d2579-7826-4d05-85bb-360a39c444d1"
      },
      "id": "gELyDtHbwdmV",
      "execution_count": 75,
      "outputs": [
        {
          "output_type": "execute_result",
          "data": {
            "text/plain": [
              "     CustomerID    Gender  Annual Income (k$)  Spending Score (1-100)\n",
              "0     -1.723412  1.128152           -1.745429               -0.434801\n",
              "1     -1.706091  1.128152           -1.745429                1.195704\n",
              "2     -1.688771 -0.886405           -1.707083               -1.715913\n",
              "3     -1.671450 -0.886405           -1.707083                1.040418\n",
              "4     -1.654129 -0.886405           -1.668737               -0.395980\n",
              "..          ...       ...                 ...                     ...\n",
              "195    1.654129 -0.886405            2.280936                1.118061\n",
              "196    1.671450 -0.886405            2.511014               -0.861839\n",
              "197    1.688771  1.128152            2.511014                0.923953\n",
              "198    1.706091  1.128152            2.769852               -1.250054\n",
              "199    1.723412  1.128152            2.769852                1.273347\n",
              "\n",
              "[200 rows x 4 columns]"
            ],
            "text/html": [
              "\n",
              "  <div id=\"df-578705fc-0faf-484c-9f2d-6b27db4c486a\">\n",
              "    <div class=\"colab-df-container\">\n",
              "      <div>\n",
              "<style scoped>\n",
              "    .dataframe tbody tr th:only-of-type {\n",
              "        vertical-align: middle;\n",
              "    }\n",
              "\n",
              "    .dataframe tbody tr th {\n",
              "        vertical-align: top;\n",
              "    }\n",
              "\n",
              "    .dataframe thead th {\n",
              "        text-align: right;\n",
              "    }\n",
              "</style>\n",
              "<table border=\"1\" class=\"dataframe\">\n",
              "  <thead>\n",
              "    <tr style=\"text-align: right;\">\n",
              "      <th></th>\n",
              "      <th>CustomerID</th>\n",
              "      <th>Gender</th>\n",
              "      <th>Annual Income (k$)</th>\n",
              "      <th>Spending Score (1-100)</th>\n",
              "    </tr>\n",
              "  </thead>\n",
              "  <tbody>\n",
              "    <tr>\n",
              "      <th>0</th>\n",
              "      <td>-1.723412</td>\n",
              "      <td>1.128152</td>\n",
              "      <td>-1.745429</td>\n",
              "      <td>-0.434801</td>\n",
              "    </tr>\n",
              "    <tr>\n",
              "      <th>1</th>\n",
              "      <td>-1.706091</td>\n",
              "      <td>1.128152</td>\n",
              "      <td>-1.745429</td>\n",
              "      <td>1.195704</td>\n",
              "    </tr>\n",
              "    <tr>\n",
              "      <th>2</th>\n",
              "      <td>-1.688771</td>\n",
              "      <td>-0.886405</td>\n",
              "      <td>-1.707083</td>\n",
              "      <td>-1.715913</td>\n",
              "    </tr>\n",
              "    <tr>\n",
              "      <th>3</th>\n",
              "      <td>-1.671450</td>\n",
              "      <td>-0.886405</td>\n",
              "      <td>-1.707083</td>\n",
              "      <td>1.040418</td>\n",
              "    </tr>\n",
              "    <tr>\n",
              "      <th>4</th>\n",
              "      <td>-1.654129</td>\n",
              "      <td>-0.886405</td>\n",
              "      <td>-1.668737</td>\n",
              "      <td>-0.395980</td>\n",
              "    </tr>\n",
              "    <tr>\n",
              "      <th>...</th>\n",
              "      <td>...</td>\n",
              "      <td>...</td>\n",
              "      <td>...</td>\n",
              "      <td>...</td>\n",
              "    </tr>\n",
              "    <tr>\n",
              "      <th>195</th>\n",
              "      <td>1.654129</td>\n",
              "      <td>-0.886405</td>\n",
              "      <td>2.280936</td>\n",
              "      <td>1.118061</td>\n",
              "    </tr>\n",
              "    <tr>\n",
              "      <th>196</th>\n",
              "      <td>1.671450</td>\n",
              "      <td>-0.886405</td>\n",
              "      <td>2.511014</td>\n",
              "      <td>-0.861839</td>\n",
              "    </tr>\n",
              "    <tr>\n",
              "      <th>197</th>\n",
              "      <td>1.688771</td>\n",
              "      <td>1.128152</td>\n",
              "      <td>2.511014</td>\n",
              "      <td>0.923953</td>\n",
              "    </tr>\n",
              "    <tr>\n",
              "      <th>198</th>\n",
              "      <td>1.706091</td>\n",
              "      <td>1.128152</td>\n",
              "      <td>2.769852</td>\n",
              "      <td>-1.250054</td>\n",
              "    </tr>\n",
              "    <tr>\n",
              "      <th>199</th>\n",
              "      <td>1.723412</td>\n",
              "      <td>1.128152</td>\n",
              "      <td>2.769852</td>\n",
              "      <td>1.273347</td>\n",
              "    </tr>\n",
              "  </tbody>\n",
              "</table>\n",
              "<p>200 rows × 4 columns</p>\n",
              "</div>\n",
              "      <button class=\"colab-df-convert\" onclick=\"convertToInteractive('df-578705fc-0faf-484c-9f2d-6b27db4c486a')\"\n",
              "              title=\"Convert this dataframe to an interactive table.\"\n",
              "              style=\"display:none;\">\n",
              "        \n",
              "  <svg xmlns=\"http://www.w3.org/2000/svg\" height=\"24px\"viewBox=\"0 0 24 24\"\n",
              "       width=\"24px\">\n",
              "    <path d=\"M0 0h24v24H0V0z\" fill=\"none\"/>\n",
              "    <path d=\"M18.56 5.44l.94 2.06.94-2.06 2.06-.94-2.06-.94-.94-2.06-.94 2.06-2.06.94zm-11 1L8.5 8.5l.94-2.06 2.06-.94-2.06-.94L8.5 2.5l-.94 2.06-2.06.94zm10 10l.94 2.06.94-2.06 2.06-.94-2.06-.94-.94-2.06-.94 2.06-2.06.94z\"/><path d=\"M17.41 7.96l-1.37-1.37c-.4-.4-.92-.59-1.43-.59-.52 0-1.04.2-1.43.59L10.3 9.45l-7.72 7.72c-.78.78-.78 2.05 0 2.83L4 21.41c.39.39.9.59 1.41.59.51 0 1.02-.2 1.41-.59l7.78-7.78 2.81-2.81c.8-.78.8-2.07 0-2.86zM5.41 20L4 18.59l7.72-7.72 1.47 1.35L5.41 20z\"/>\n",
              "  </svg>\n",
              "      </button>\n",
              "      \n",
              "  <style>\n",
              "    .colab-df-container {\n",
              "      display:flex;\n",
              "      flex-wrap:wrap;\n",
              "      gap: 12px;\n",
              "    }\n",
              "\n",
              "    .colab-df-convert {\n",
              "      background-color: #E8F0FE;\n",
              "      border: none;\n",
              "      border-radius: 50%;\n",
              "      cursor: pointer;\n",
              "      display: none;\n",
              "      fill: #1967D2;\n",
              "      height: 32px;\n",
              "      padding: 0 0 0 0;\n",
              "      width: 32px;\n",
              "    }\n",
              "\n",
              "    .colab-df-convert:hover {\n",
              "      background-color: #E2EBFA;\n",
              "      box-shadow: 0px 1px 2px rgba(60, 64, 67, 0.3), 0px 1px 3px 1px rgba(60, 64, 67, 0.15);\n",
              "      fill: #174EA6;\n",
              "    }\n",
              "\n",
              "    [theme=dark] .colab-df-convert {\n",
              "      background-color: #3B4455;\n",
              "      fill: #D2E3FC;\n",
              "    }\n",
              "\n",
              "    [theme=dark] .colab-df-convert:hover {\n",
              "      background-color: #434B5C;\n",
              "      box-shadow: 0px 1px 3px 1px rgba(0, 0, 0, 0.15);\n",
              "      filter: drop-shadow(0px 1px 2px rgba(0, 0, 0, 0.3));\n",
              "      fill: #FFFFFF;\n",
              "    }\n",
              "  </style>\n",
              "\n",
              "      <script>\n",
              "        const buttonEl =\n",
              "          document.querySelector('#df-578705fc-0faf-484c-9f2d-6b27db4c486a button.colab-df-convert');\n",
              "        buttonEl.style.display =\n",
              "          google.colab.kernel.accessAllowed ? 'block' : 'none';\n",
              "\n",
              "        async function convertToInteractive(key) {\n",
              "          const element = document.querySelector('#df-578705fc-0faf-484c-9f2d-6b27db4c486a');\n",
              "          const dataTable =\n",
              "            await google.colab.kernel.invokeFunction('convertToInteractive',\n",
              "                                                     [key], {});\n",
              "          if (!dataTable) return;\n",
              "\n",
              "          const docLinkHtml = 'Like what you see? Visit the ' +\n",
              "            '<a target=\"_blank\" href=https://colab.research.google.com/notebooks/data_table.ipynb>data table notebook</a>'\n",
              "            + ' to learn more about interactive tables.';\n",
              "          element.innerHTML = '';\n",
              "          dataTable['output_type'] = 'display_data';\n",
              "          await google.colab.output.renderOutput(dataTable, element);\n",
              "          const docLink = document.createElement('div');\n",
              "          docLink.innerHTML = docLinkHtml;\n",
              "          element.appendChild(docLink);\n",
              "        }\n",
              "      </script>\n",
              "    </div>\n",
              "  </div>\n",
              "  "
            ]
          },
          "metadata": {},
          "execution_count": 75
        }
      ]
    },
    {
      "cell_type": "markdown",
      "source": [
        "### Split the data into dependent and independent **variables**.\n"
      ],
      "metadata": {
        "id": "_PsWLMuirIud"
      },
      "id": "_PsWLMuirIud"
    },
    {
      "cell_type": "code",
      "source": [
        "X_Var = df.iloc[:, :-1].values"
      ],
      "metadata": {
        "id": "uJesON3hrOVv"
      },
      "id": "uJesON3hrOVv",
      "execution_count": 68,
      "outputs": []
    },
    {
      "cell_type": "code",
      "source": [
        "X_Var"
      ],
      "metadata": {
        "colab": {
          "base_uri": "https://localhost:8080/"
        },
        "id": "gk8blo_dr_QI",
        "outputId": "39664138-bdc5-4c29-d9f9-c78332e11bc7"
      },
      "id": "gk8blo_dr_QI",
      "execution_count": 69,
      "outputs": [
        {
          "output_type": "execute_result",
          "data": {
            "text/plain": [
              "array([[  1.  ,   1.  ,  19.  ,  15.  ],\n",
              "       [  2.  ,   1.  ,  21.  ,  15.  ],\n",
              "       [  3.  ,   0.  ,  20.  ,  16.  ],\n",
              "       [  4.  ,   0.  ,  23.  ,  16.  ],\n",
              "       [  5.  ,   0.  ,  31.  ,  17.  ],\n",
              "       [  6.  ,   0.  ,  22.  ,  17.  ],\n",
              "       [  7.  ,   0.  ,  35.  ,  18.  ],\n",
              "       [  8.  ,   0.  ,  23.  ,  18.  ],\n",
              "       [  9.  ,   1.  ,  64.  ,  19.  ],\n",
              "       [ 10.  ,   0.  ,  30.  ,  19.  ],\n",
              "       [ 11.  ,   1.  ,  67.  ,  19.  ],\n",
              "       [ 12.  ,   0.  ,  35.  ,  19.  ],\n",
              "       [ 13.  ,   0.  ,  58.  ,  20.  ],\n",
              "       [ 14.  ,   0.  ,  24.  ,  20.  ],\n",
              "       [ 15.  ,   1.  ,  37.  ,  20.  ],\n",
              "       [ 16.  ,   1.  ,  22.  ,  20.  ],\n",
              "       [ 17.  ,   0.  ,  35.  ,  21.  ],\n",
              "       [ 18.  ,   1.  ,  20.  ,  21.  ],\n",
              "       [ 19.  ,   1.  ,  52.  ,  23.  ],\n",
              "       [ 20.  ,   0.  ,  35.  ,  23.  ],\n",
              "       [ 21.  ,   1.  ,  35.  ,  24.  ],\n",
              "       [ 22.  ,   1.  ,  25.  ,  24.  ],\n",
              "       [ 23.  ,   0.  ,  46.  ,  25.  ],\n",
              "       [ 24.  ,   1.  ,  31.  ,  25.  ],\n",
              "       [ 25.  ,   0.  ,  54.  ,  28.  ],\n",
              "       [ 26.  ,   1.  ,  29.  ,  28.  ],\n",
              "       [ 27.  ,   0.  ,  45.  ,  28.  ],\n",
              "       [ 28.  ,   1.  ,  35.  ,  28.  ],\n",
              "       [ 29.  ,   0.  ,  40.  ,  29.  ],\n",
              "       [ 30.  ,   0.  ,  23.  ,  29.  ],\n",
              "       [ 31.  ,   1.  ,  60.  ,  30.  ],\n",
              "       [ 32.  ,   0.  ,  21.  ,  30.  ],\n",
              "       [ 33.  ,   1.  ,  53.  ,  33.  ],\n",
              "       [ 34.  ,   1.  ,  18.  ,  33.  ],\n",
              "       [ 35.  ,   0.  ,  49.  ,  33.  ],\n",
              "       [ 36.  ,   0.  ,  21.  ,  33.  ],\n",
              "       [ 37.  ,   0.  ,  42.  ,  34.  ],\n",
              "       [ 38.  ,   0.  ,  30.  ,  34.  ],\n",
              "       [ 39.  ,   0.  ,  36.  ,  37.  ],\n",
              "       [ 40.  ,   0.  ,  20.  ,  37.  ],\n",
              "       [ 41.  ,   0.  ,  65.  ,  38.  ],\n",
              "       [ 42.  ,   1.  ,  24.  ,  38.  ],\n",
              "       [ 43.  ,   1.  ,  48.  ,  39.  ],\n",
              "       [ 44.  ,   0.  ,  31.  ,  39.  ],\n",
              "       [ 45.  ,   0.  ,  49.  ,  39.  ],\n",
              "       [ 46.  ,   0.  ,  24.  ,  39.  ],\n",
              "       [ 47.  ,   0.  ,  50.  ,  40.  ],\n",
              "       [ 48.  ,   0.  ,  27.  ,  40.  ],\n",
              "       [ 49.  ,   0.  ,  29.  ,  40.  ],\n",
              "       [ 50.  ,   0.  ,  31.  ,  40.  ],\n",
              "       [ 51.  ,   0.  ,  49.  ,  42.  ],\n",
              "       [ 52.  ,   1.  ,  33.  ,  42.  ],\n",
              "       [ 53.  ,   0.  ,  31.  ,  43.  ],\n",
              "       [ 54.  ,   1.  ,  59.  ,  43.  ],\n",
              "       [ 55.  ,   0.  ,  50.  ,  43.  ],\n",
              "       [ 56.  ,   1.  ,  47.  ,  43.  ],\n",
              "       [ 57.  ,   0.  ,  51.  ,  44.  ],\n",
              "       [ 58.  ,   1.  ,  69.  ,  44.  ],\n",
              "       [ 59.  ,   0.  ,  27.  ,  46.  ],\n",
              "       [ 60.  ,   1.  ,  53.  ,  46.  ],\n",
              "       [ 61.  ,   1.  ,  70.  ,  46.  ],\n",
              "       [ 62.  ,   1.  ,  19.  ,  46.  ],\n",
              "       [ 63.  ,   0.  ,  67.  ,  47.  ],\n",
              "       [ 64.  ,   0.  ,  54.  ,  47.  ],\n",
              "       [ 65.  ,   1.  ,  63.  ,  48.  ],\n",
              "       [ 66.  ,   1.  ,  18.  ,  48.  ],\n",
              "       [ 67.  ,   0.  ,  43.  ,  48.  ],\n",
              "       [ 68.  ,   0.  ,  68.  ,  48.  ],\n",
              "       [ 69.  ,   1.  ,  19.  ,  48.  ],\n",
              "       [ 70.  ,   0.  ,  32.  ,  48.  ],\n",
              "       [ 71.  ,   1.  ,  70.  ,  49.  ],\n",
              "       [ 72.  ,   0.  ,  47.  ,  49.  ],\n",
              "       [ 73.  ,   0.  ,  60.  ,  50.  ],\n",
              "       [ 74.  ,   0.  ,  60.  ,  50.  ],\n",
              "       [ 75.  ,   1.  ,  59.  ,  54.  ],\n",
              "       [ 76.  ,   1.  ,  26.  ,  54.  ],\n",
              "       [ 77.  ,   0.  ,  45.  ,  54.  ],\n",
              "       [ 78.  ,   1.  ,  40.  ,  54.  ],\n",
              "       [ 79.  ,   0.  ,  23.  ,  54.  ],\n",
              "       [ 80.  ,   0.  ,  49.  ,  54.  ],\n",
              "       [ 81.  ,   1.  ,  57.  ,  54.  ],\n",
              "       [ 82.  ,   1.  ,  38.  ,  54.  ],\n",
              "       [ 83.  ,   1.  ,  67.  ,  54.  ],\n",
              "       [ 84.  ,   0.  ,  46.  ,  54.  ],\n",
              "       [ 85.  ,   0.  ,  21.  ,  54.  ],\n",
              "       [ 86.  ,   1.  ,  48.  ,  54.  ],\n",
              "       [ 87.  ,   0.  ,  55.  ,  57.  ],\n",
              "       [ 88.  ,   0.  ,  22.  ,  57.  ],\n",
              "       [ 89.  ,   0.  ,  34.  ,  58.  ],\n",
              "       [ 90.  ,   0.  ,  50.  ,  58.  ],\n",
              "       [ 91.  ,   0.  ,  68.  ,  59.  ],\n",
              "       [ 92.  ,   1.  ,  18.  ,  59.  ],\n",
              "       [ 93.  ,   1.  ,  48.  ,  60.  ],\n",
              "       [ 94.  ,   0.  ,  40.  ,  60.  ],\n",
              "       [ 95.  ,   0.  ,  32.  ,  60.  ],\n",
              "       [ 96.  ,   1.  ,  24.  ,  60.  ],\n",
              "       [ 97.  ,   0.  ,  47.  ,  60.  ],\n",
              "       [ 98.  ,   0.  ,  27.  ,  60.  ],\n",
              "       [ 99.  ,   1.  ,  48.  ,  61.  ],\n",
              "       [100.  ,   1.  ,  20.  ,  61.  ],\n",
              "       [101.  ,   0.  ,  23.  ,  62.  ],\n",
              "       [102.  ,   0.  ,  49.  ,  62.  ],\n",
              "       [103.  ,   1.  ,  67.  ,  62.  ],\n",
              "       [104.  ,   1.  ,  26.  ,  62.  ],\n",
              "       [105.  ,   1.  ,  49.  ,  62.  ],\n",
              "       [106.  ,   0.  ,  21.  ,  62.  ],\n",
              "       [107.  ,   0.  ,  66.  ,  63.  ],\n",
              "       [108.  ,   1.  ,  54.  ,  63.  ],\n",
              "       [109.  ,   1.  ,  68.  ,  63.  ],\n",
              "       [110.  ,   1.  ,  66.  ,  63.  ],\n",
              "       [111.  ,   1.  ,  65.  ,  63.  ],\n",
              "       [112.  ,   0.  ,  19.  ,  63.  ],\n",
              "       [113.  ,   0.  ,  38.  ,  64.  ],\n",
              "       [114.  ,   1.  ,  19.  ,  64.  ],\n",
              "       [115.  ,   0.  ,  18.  ,  65.  ],\n",
              "       [116.  ,   0.  ,  19.  ,  65.  ],\n",
              "       [117.  ,   0.  ,  63.  ,  65.  ],\n",
              "       [118.  ,   0.  ,  49.  ,  65.  ],\n",
              "       [119.  ,   0.  ,  51.  ,  67.  ],\n",
              "       [120.  ,   0.  ,  50.  ,  67.  ],\n",
              "       [121.  ,   1.  ,  27.  ,  67.  ],\n",
              "       [122.  ,   0.  ,  38.  ,  67.  ],\n",
              "       [123.  ,   0.  ,  40.  ,  69.  ],\n",
              "       [124.  ,   1.  ,  39.  ,  69.  ],\n",
              "       [125.  ,   0.  ,  23.  ,  70.  ],\n",
              "       [126.  ,   0.  ,  31.  ,  70.  ],\n",
              "       [127.  ,   1.  ,  43.  ,  71.  ],\n",
              "       [128.  ,   1.  ,  40.  ,  71.  ],\n",
              "       [129.  ,   1.  ,  59.  ,  71.  ],\n",
              "       [130.  ,   1.  ,  38.  ,  71.  ],\n",
              "       [131.  ,   1.  ,  47.  ,  71.  ],\n",
              "       [132.  ,   1.  ,  39.  ,  71.  ],\n",
              "       [133.  ,   0.  ,  25.  ,  72.  ],\n",
              "       [134.  ,   0.  ,  31.  ,  72.  ],\n",
              "       [135.  ,   1.  ,  20.  ,  73.  ],\n",
              "       [136.  ,   0.  ,  29.  ,  73.  ],\n",
              "       [137.  ,   0.  ,  44.  ,  73.  ],\n",
              "       [138.  ,   1.  ,  32.  ,  73.  ],\n",
              "       [139.  ,   1.  ,  19.  ,  74.  ],\n",
              "       [140.  ,   0.  ,  35.  ,  74.  ],\n",
              "       [141.  ,   0.  ,  57.  ,  75.  ],\n",
              "       [142.  ,   1.  ,  32.  ,  75.  ],\n",
              "       [143.  ,   0.  ,  28.  ,  76.  ],\n",
              "       [144.  ,   0.  ,  32.  ,  76.  ],\n",
              "       [145.  ,   1.  ,  25.  ,  77.  ],\n",
              "       [146.  ,   1.  ,  28.  ,  77.  ],\n",
              "       [147.  ,   1.  ,  48.  ,  77.  ],\n",
              "       [148.  ,   0.  ,  32.  ,  77.  ],\n",
              "       [149.  ,   0.  ,  34.  ,  78.  ],\n",
              "       [150.  ,   1.  ,  34.  ,  78.  ],\n",
              "       [151.  ,   1.  ,  43.  ,  78.  ],\n",
              "       [152.  ,   1.  ,  39.  ,  78.  ],\n",
              "       [153.  ,   0.  ,  44.  ,  78.  ],\n",
              "       [154.  ,   0.  ,  38.  ,  78.  ],\n",
              "       [155.  ,   0.  ,  47.  ,  78.  ],\n",
              "       [156.  ,   0.  ,  27.  ,  78.  ],\n",
              "       [157.  ,   1.  ,  37.  ,  78.  ],\n",
              "       [158.  ,   0.  ,  30.  ,  78.  ],\n",
              "       [159.  ,   1.  ,  34.  ,  78.  ],\n",
              "       [160.  ,   0.  ,  30.  ,  78.  ],\n",
              "       [161.  ,   0.  ,  56.  ,  79.  ],\n",
              "       [162.  ,   0.  ,  29.  ,  79.  ],\n",
              "       [163.  ,   1.  ,  19.  ,  81.  ],\n",
              "       [164.  ,   0.  ,  31.  ,  81.  ],\n",
              "       [165.  ,   1.  ,  50.  ,  85.  ],\n",
              "       [166.  ,   0.  ,  36.  ,  85.  ],\n",
              "       [167.  ,   1.  ,  42.  ,  86.  ],\n",
              "       [168.  ,   0.  ,  33.  ,  86.  ],\n",
              "       [169.  ,   0.  ,  36.  ,  87.  ],\n",
              "       [170.  ,   1.  ,  32.  ,  87.  ],\n",
              "       [171.  ,   1.  ,  40.  ,  87.  ],\n",
              "       [172.  ,   1.  ,  28.  ,  87.  ],\n",
              "       [173.  ,   1.  ,  36.  ,  87.  ],\n",
              "       [174.  ,   1.  ,  36.  ,  87.  ],\n",
              "       [175.  ,   0.  ,  52.  ,  88.  ],\n",
              "       [176.  ,   0.  ,  30.  ,  88.  ],\n",
              "       [177.  ,   1.  ,  58.  ,  88.  ],\n",
              "       [178.  ,   1.  ,  27.  ,  88.  ],\n",
              "       [179.  ,   1.  ,  59.  ,  93.  ],\n",
              "       [180.  ,   1.  ,  35.  ,  93.  ],\n",
              "       [181.  ,   0.  ,  37.  ,  97.  ],\n",
              "       [182.  ,   0.  ,  32.  ,  97.  ],\n",
              "       [183.  ,   1.  ,  46.  ,  98.  ],\n",
              "       [184.  ,   0.  ,  29.  ,  98.  ],\n",
              "       [185.  ,   0.  ,  41.  ,  99.  ],\n",
              "       [186.  ,   1.  ,  30.  ,  99.  ],\n",
              "       [187.  ,   0.  ,  54.  , 101.  ],\n",
              "       [188.  ,   1.  ,  28.  , 101.  ],\n",
              "       [189.  ,   0.  ,  41.  , 103.  ],\n",
              "       [190.  ,   0.  ,  36.  , 103.  ],\n",
              "       [191.  ,   0.  ,  34.  , 103.  ],\n",
              "       [192.  ,   0.  ,  32.  , 103.  ],\n",
              "       [193.  ,   1.  ,  33.  , 113.  ],\n",
              "       [194.  ,   0.  ,  38.  , 113.  ],\n",
              "       [195.  ,   0.  ,  47.  , 120.  ],\n",
              "       [196.  ,   0.  ,  35.  , 120.  ],\n",
              "       [197.  ,   0.  ,  45.  , 126.  ],\n",
              "       [198.  ,   1.  ,  32.  , 126.  ],\n",
              "       [199.  ,   1.  ,  32.  , 132.75],\n",
              "       [200.  ,   1.  ,  30.  , 132.75]])"
            ]
          },
          "metadata": {},
          "execution_count": 69
        }
      ]
    },
    {
      "cell_type": "code",
      "source": [
        "Y_Var = df.iloc[:, -1].values"
      ],
      "metadata": {
        "id": "PTaLP_ddsEkj"
      },
      "id": "PTaLP_ddsEkj",
      "execution_count": 70,
      "outputs": []
    },
    {
      "cell_type": "code",
      "source": [
        "Y_Var"
      ],
      "metadata": {
        "colab": {
          "base_uri": "https://localhost:8080/"
        },
        "id": "pEiNAC2gsIvF",
        "outputId": "da56d0ff-6b14-4bd1-dde6-e595e5b82550"
      },
      "id": "pEiNAC2gsIvF",
      "execution_count": 71,
      "outputs": [
        {
          "output_type": "execute_result",
          "data": {
            "text/plain": [
              "array([39, 81,  6, 77, 40, 76,  6, 94,  3, 72, 14, 99, 15, 77, 13, 79, 35,\n",
              "       66, 29, 98, 35, 73,  5, 73, 14, 82, 32, 61, 31, 87,  4, 73,  4, 92,\n",
              "       14, 81, 17, 73, 26, 75, 35, 92, 36, 61, 28, 65, 55, 47, 42, 42, 52,\n",
              "       60, 54, 60, 45, 41, 50, 46, 51, 46, 56, 55, 52, 59, 51, 59, 50, 48,\n",
              "       59, 47, 55, 42, 49, 56, 47, 54, 53, 48, 52, 42, 51, 55, 41, 44, 57,\n",
              "       46, 58, 55, 60, 46, 55, 41, 49, 40, 42, 52, 47, 50, 42, 49, 41, 48,\n",
              "       59, 55, 56, 42, 50, 46, 43, 48, 52, 54, 42, 46, 48, 50, 43, 59, 43,\n",
              "       57, 56, 40, 58, 91, 29, 77, 35, 95, 11, 75,  9, 75, 34, 71,  5, 88,\n",
              "        7, 73, 10, 72,  5, 93, 40, 87, 12, 97, 36, 74, 22, 90, 17, 88, 20,\n",
              "       76, 16, 89,  1, 78,  1, 73, 35, 83,  5, 93, 26, 75, 20, 95, 27, 63,\n",
              "       13, 75, 10, 92, 13, 86, 15, 69, 14, 90, 32, 86, 15, 88, 39, 97, 24,\n",
              "       68, 17, 85, 23, 69,  8, 91, 16, 79, 28, 74, 18, 83])"
            ]
          },
          "metadata": {},
          "execution_count": 71
        }
      ]
    },
    {
      "cell_type": "markdown",
      "source": [
        "### Split the data into training and testing\n",
        "\n"
      ],
      "metadata": {
        "id": "PqUeA3cnsSgg"
      },
      "id": "PqUeA3cnsSgg"
    },
    {
      "cell_type": "code",
      "source": [
        "from sklearn.model_selection import train_test_split"
      ],
      "metadata": {
        "id": "Rbe6ntDUsUFW"
      },
      "id": "Rbe6ntDUsUFW",
      "execution_count": 72,
      "outputs": []
    },
    {
      "cell_type": "code",
      "source": [
        "X_train, X_test, Y_train, Y_test = train_test_split(X_scaled, Y, test_size  =0.20, random_state = 0)"
      ],
      "metadata": {
        "id": "vkvVhDjjscBl"
      },
      "id": "vkvVhDjjscBl",
      "execution_count": 76,
      "outputs": []
    },
    {
      "cell_type": "code",
      "source": [
        "X_train.shape\n"
      ],
      "metadata": {
        "colab": {
          "base_uri": "https://localhost:8080/"
        },
        "id": "z8-ts6zXsflj",
        "outputId": "9279ce87-829f-4557-b030-bac5ce6fcf39"
      },
      "id": "z8-ts6zXsflj",
      "execution_count": 79,
      "outputs": [
        {
          "output_type": "execute_result",
          "data": {
            "text/plain": [
              "(160, 4)"
            ]
          },
          "metadata": {},
          "execution_count": 79
        }
      ]
    },
    {
      "cell_type": "code",
      "source": [
        "X_test.shape\n"
      ],
      "metadata": {
        "colab": {
          "base_uri": "https://localhost:8080/"
        },
        "id": "YDSZqD59tQ3p",
        "outputId": "b21073c1-1126-4d09-c8b9-3dad9af3711a"
      },
      "id": "YDSZqD59tQ3p",
      "execution_count": 80,
      "outputs": [
        {
          "output_type": "execute_result",
          "data": {
            "text/plain": [
              "(40, 4)"
            ]
          },
          "metadata": {},
          "execution_count": 80
        }
      ]
    },
    {
      "cell_type": "code",
      "source": [
        "Y_train.shape\n"
      ],
      "metadata": {
        "colab": {
          "base_uri": "https://localhost:8080/"
        },
        "id": "ZixS7hx5w04Q",
        "outputId": "afc4356c-c035-4c88-e818-b10671ccb02b"
      },
      "id": "ZixS7hx5w04Q",
      "execution_count": 81,
      "outputs": [
        {
          "output_type": "execute_result",
          "data": {
            "text/plain": [
              "(160,)"
            ]
          },
          "metadata": {},
          "execution_count": 81
        }
      ]
    },
    {
      "cell_type": "code",
      "source": [
        "Y_test.shape"
      ],
      "metadata": {
        "colab": {
          "base_uri": "https://localhost:8080/"
        },
        "id": "qfxdivtyw20W",
        "outputId": "ea7f49a0-9ffa-4e16-96c6-0db9cb4da3ec"
      },
      "id": "qfxdivtyw20W",
      "execution_count": 82,
      "outputs": [
        {
          "output_type": "execute_result",
          "data": {
            "text/plain": [
              "(40,)"
            ]
          },
          "metadata": {},
          "execution_count": 82
        }
      ]
    },
    {
      "cell_type": "markdown",
      "source": [
        "### Clustering Algorithmn"
      ],
      "metadata": {
        "id": "3WRv0EnMygap"
      },
      "id": "3WRv0EnMygap"
    },
    {
      "cell_type": "code",
      "execution_count": 28,
      "id": "7e53fdc1",
      "metadata": {
        "id": "7e53fdc1"
      },
      "outputs": [],
      "source": [
        "x = df.iloc[:, [3, 4]].values \n"
      ]
    },
    {
      "cell_type": "code",
      "execution_count": 64,
      "id": "69fec95d",
      "metadata": {
        "colab": {
          "base_uri": "https://localhost:8080/",
          "height": 295
        },
        "id": "69fec95d",
        "outputId": "b5241212-aafa-461d-87df-90aa51c6181d"
      },
      "outputs": [
        {
          "output_type": "display_data",
          "data": {
            "text/plain": [
              "<Figure size 432x288 with 1 Axes>"
            ],
            "image/png": "[encoded data removed]"
          },
          "metadata": {
            "needs_background": "light"
          }
        }
      ],
      "source": [
        "from sklearn.cluster import KMeans  \n",
        "wcss_list= []   \n",
        "for i in range(1, 11):  \n",
        "    kmeans = KMeans(n_clusters=i, init='k-means++', random_state= 42)  \n",
        "    kmeans.fit(x)  \n",
        "    wcss_list.append(kmeans.inertia_)  \n",
        "plt.plot(range(1, 11), wcss_list)  \n",
        "plt.title('The Elobw Method Graph')  \n",
        "plt.xlabel('Number of clusters(k)')  \n",
        "plt.ylabel('wcss_list')  \n",
        "plt.show()  "
      ]
    },
    {
      "cell_type": "code",
      "execution_count": 65,
      "id": "af5fd7f2",
      "metadata": {
        "id": "af5fd7f2"
      },
      "outputs": [],
      "source": [
        "kmeans = KMeans(n_clusters=5, init = 'k-means++', random_state = 42)  \n",
        "y_predict = kmeans.fit_predict(x)\n"
      ]
    },
    {
      "cell_type": "code",
      "source": [
        "plt.scatter(x[y_predict == 0, 0], x[y_predict == 0, 1], s = 100, c = 'red', label = 'Cluster 1')   \n",
        "plt.scatter(x[y_predict == 1, 0], x[y_predict == 1, 1], s = 100, c = 'blue', label = 'Cluster 2')  \n",
        "plt.scatter(x[y_predict== 2, 0], x[y_predict == 2, 1], s = 100, c = 'green', label = 'Cluster 3')  \n",
        "plt.scatter(x[y_predict == 3, 0], x[y_predict == 3, 1], s = 100, c = 'yellow', label = 'Cluster 4') \n",
        "plt.scatter(x[y_predict == 4, 0], x[y_predict == 4, 1], s = 100, c = 'pink', label = 'Cluster 5')  \n",
        "plt.scatter(kmeans.cluster_centers_[:, 0], kmeans.cluster_centers_[:, 1], s = 300, c = 'purple', label = 'Centroid')   \n",
        "plt.title('Clusters of customers')  \n",
        "plt.xlabel('Annual Income (k$)')  \n",
        "plt.ylabel('Spending Score (1-100)')  \n",
        "plt.legend()  \n",
        "plt.show()"
      ],
      "metadata": {
        "colab": {
          "base_uri": "https://localhost:8080/",
          "height": 295
        },
        "id": "Ux1wqEmCqCAO",
        "outputId": "01f20784-74fc-4d0a-f2ad-f369e850e5cc"
      },
      "id": "Ux1wqEmCqCAO",
      "execution_count": 66,
      "outputs": [
        {
          "output_type": "display_data",
          "data": {
            "text/plain": [
              "<Figure size 432x288 with 1 Axes>"
            ],
            "image/png": "[encoded data removed]"
          },
          "metadata": {
            "needs_background": "light"
          }
        }
      ]
    }
  ],
  "metadata": {
    "kernelspec": {
      "display_name": "Python 3 (ipykernel)",
      "language": "python",
      "name": "python3"
    },
    "language_info": {
      "codemirror_mode": {
        "name": "ipython",
        "version": 3
      },
      "file_extension": ".py",
      "mimetype": "text/x-python",
      "name": "python",
      "nbconvert_exporter": "python",
      "pygments_lexer": "ipython3",
      "version": "3.9.7"
    },
    "colab": {
      "provenance": [],
      "collapsed_sections": []
    }
  },
  "nbformat": 4,
  "nbformat_minor": 5
}