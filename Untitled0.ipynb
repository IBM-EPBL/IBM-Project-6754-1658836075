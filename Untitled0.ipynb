{
  "nbformat": 4,
  "nbformat_minor": 0,
  "metadata": {
    "colab": {
      "provenance": [],
      "mount_file_id": "11n2qsz5b3zKKdaoCs5CzV79I6rFp8Odl",
      "authorship_tag": "ABX9TyMrDqbFuGxTfhCMchoghv+9",
      "include_colab_link": true
    },
    "kernelspec": {
      "name": "python3",
      "display_name": "Python 3"
    },
    "language_info": {
      "name": "python"
    }
  },
  "cells": [
    {
      "cell_type": "markdown",
      "metadata": {
        "id": "view-in-github",
        "colab_type": "text"
      },
      "source": [
        "<a href=\"https://colab.research.google.com/github/IBM-EPBL/IBM-Project-6754-1658836075/blob/main/Untitled0.ipynb\" target=\"_parent\"><img src=\"https://colab.research.google.com/assets/colab-badge.svg\" alt=\"Open In Colab\"/></a>"
      ]
    },
    {
      "cell_type": "code",
      "execution_count": null,
      "metadata": {
        "id": "jSajs44VSAXo"
      },
      "outputs": [],
      "source": [
        "from sklearn.ensemble import RandomForestClassifier"
      ]
    },
    {
      "cell_type": "code",
      "source": [
        "from sklearn.preprocessing import LabelEncoder\n",
        "from sklearn.metrics import confusion_matrix\n",
        "from skimage import feature\n",
        "from imutils import build_montages\n",
        "from imutils import paths\n",
        "import numpy as np\n",
        "import cv2\n",
        "import os\n",
        "import pickle"
      ],
      "metadata": {
        "id": "0M1L7GG1Yd3I"
      },
      "execution_count": null,
      "outputs": []
    },
    {
      "cell_type": "code",
      "source": [
        "trainingPath = r\"/content/drive/MyDrive/spiral/training\"\n",
        "testingPath = r\"/content/drive/MyDrive/spiral/testing\""
      ],
      "metadata": {
        "id": "dJMR5aq6sE3J"
      },
      "execution_count": null,
      "outputs": []
    },
    {
      "cell_type": "code",
      "source": [
        "(X_train, Y_train)= load_split(trainingPath)\n",
        "(X_test, Y_test)= load_split(testingPath)"
      ],
      "metadata": {
        "colab": {
          "base_uri": "https://localhost:8080/",
          "height": 182
        },
        "id": "XTtutMBvtXqC",
        "outputId": "8f43c079-503a-4b78-f9e9-885f9eccb97a"
      },
      "execution_count": null,
      "outputs": [
        {
          "output_type": "error",
          "ename": "NameError",
          "evalue": "ignored",
          "traceback": [
            "\u001b[0;31m---------------------------------------------------------------------------\u001b[0m",
            "\u001b[0;31mNameError\u001b[0m                                 Traceback (most recent call last)",
            "\u001b[0;32m<ipython-input-3-8df39cf7a60c>\u001b[0m in \u001b[0;36m<module>\u001b[0;34m\u001b[0m\n\u001b[0;32m----> 1\u001b[0;31m \u001b[0;34m(\u001b[0m\u001b[0mX_train\u001b[0m\u001b[0;34m,\u001b[0m \u001b[0mY_train\u001b[0m\u001b[0;34m)\u001b[0m\u001b[0;34m=\u001b[0m \u001b[0mload_split\u001b[0m\u001b[0;34m(\u001b[0m\u001b[0mtrainingPath\u001b[0m\u001b[0;34m)\u001b[0m\u001b[0;34m\u001b[0m\u001b[0;34m\u001b[0m\u001b[0m\n\u001b[0m\u001b[1;32m      2\u001b[0m \u001b[0;34m(\u001b[0m\u001b[0mX_test\u001b[0m\u001b[0;34m,\u001b[0m \u001b[0mY_test\u001b[0m\u001b[0;34m)\u001b[0m\u001b[0;34m=\u001b[0m \u001b[0mload_split\u001b[0m\u001b[0;34m(\u001b[0m\u001b[0mtestingPath\u001b[0m\u001b[0;34m)\u001b[0m\u001b[0;34m\u001b[0m\u001b[0;34m\u001b[0m\u001b[0m\n",
            "\u001b[0;31mNameError\u001b[0m: name 'load_split' is not defined"
          ]
        }
      ]
    },
    {
      "cell_type": "code",
      "source": [
        "def load_split(path):\n",
        "\n",
        "# grab the list of images in the input directory, then initialise \n",
        "#the list of data (i.e.. images) and class labels \n",
        "imagePaths : list (paths.list_images (path))\n",
        "\n",
        "data = []\n",
        "\n",
        "labels = []\n",
        "\n",
        "# loop over the image paths\n",
        "\n",
        "for imagePath in imagePaths: \n",
        "  #extract the class label from the filename\n",
        "  label = imagePath.split(os.path.sep) [-2]\n",
        "  # load the input image, convert it to grayscale, and resize\n",
        "  # it to 200x200 pixels, ignoring aspect ratio\n",
        "\n",
        "  image = cv2.imread(imagePath)\n",
        "  image = cv2.cvtColor(image, cv2.COLOR_BGR2GRAY)\n",
        "  image = cv2.resize(image, (200, 200))\n",
        "  # threshold the image such that the drawing appears as white \n",
        "  # on a black background \n",
        "  image = cv2.threshold (image, 0, 255, cv2.THRESH BINARY INV | cv2.THRESH_OTSU)\n",
        "\n",
        "#quantify the image\n",
        "\n",
        "features = quantify_image(image)\n",
        "\n",
        "#update the data and labels lists, respectively\n",
        "\n",
        "data.append(features) \n",
        "labels.append(label)\n",
        "\n",
        "# return the data and labels\n",
        "\n",
        "return (np.array(data), np.array(labels))"
      ],
      "metadata": {
        "colab": {
          "base_uri": "https://localhost:8080/",
          "height": 130
        },
        "id": "PJKZchBXuF1l",
        "outputId": "e8d2ab07-6501-4cf0-dca0-6a0eeca076f9"
      },
      "execution_count": null,
      "outputs": [
        {
          "output_type": "error",
          "ename": "IndentationError",
          "evalue": "ignored",
          "traceback": [
            "\u001b[0;36m  File \u001b[0;32m\"<ipython-input-4-20df482d0eb7>\"\u001b[0;36m, line \u001b[0;32m5\u001b[0m\n\u001b[0;31m    imagePaths = list (paths.list_images (path))\u001b[0m\n\u001b[0m             ^\u001b[0m\n\u001b[0;31mIndentationError\u001b[0m\u001b[0;31m:\u001b[0m expected an indented block\n"
          ]
        }
      ]
    }
  ]
}